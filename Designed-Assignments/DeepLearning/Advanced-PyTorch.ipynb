{
  "cells": [
    {
      "attachments": {},
      "cell_type": "markdown",
      "metadata": {},
      "source": [
        "### HW1 @ DL Course, Dr. Soleymani -- Spring 2025\n",
        "\n",
        "Created By: Amirmahdi Meighani"
      ]
    },
    {
      "cell_type": "markdown",
      "metadata": {
        "id": "CiTc9GwyxFbP"
      },
      "source": [
        "# Efficient Gradient Checkpointing for Memory-Constrained Deep Learning (50 points)\n",
        "Deep learning experiments are often limited by GPU memory constraints, making it challenging to train large models. To overcome this, we implemented gradient checkpointing, a technique that significantly reduces memory usage by strategically storing intermediate activations and recomputing them during backpropagation. This allows us to train models that would otherwise exceed our GPU’s memory capacity.\n",
        "\n",
        "In this guide, you'll first implement gradient checkpointing from scratch to understand its inner workings. Then, you'll learn how to leverage PyTorch's built-in checkpointing feature for more efficient deep learning workflows."
      ]
    },
    {
      "cell_type": "markdown",
      "metadata": {
        "id": "-tcGtSaizW0e"
      },
      "source": [
        "### How Gradient Checkpointing Works\n",
        "We divide the neural network into segments and only store activations at the segment boundaries (checkpoints). The activations for intermediate layers are discarded and recomputed during backpropagation.\n",
        "\n",
        "Step-by-Step Process:\n",
        "\n",
        "\n",
        "\n",
        "*   **Forward Pass (Training Phase)**\n",
        "\n",
        "\n",
        "\n",
        "1.  Divide the model into segments (e.g., every few layers).\n",
        "2.  Save activations only at checkpoint layers.\n",
        "3.  Discard activations of intermediate layers.\n",
        "4.  Proceed as usual to compute the final output.\n",
        "\n",
        "\n",
        "\n",
        "*   **Backward Pass (Gradient Calculation)**\n",
        "\n",
        "\n",
        "\n",
        "1. Recompute missing activations for each segment.\n",
        "2. Compute gradients using the recomputed activations.\n",
        "3. Update model parameters with computed gradients.\n",
        "\n",
        "\n",
        "By recomputing only small segments at a time, we save significant memory while keeping the computational cost manageable.\n"
      ]
    },
    {
      "cell_type": "markdown",
      "metadata": {
        "id": "6VBfGyOGyMou"
      },
      "source": [
        "First import what you need and check your GPU."
      ]
    },
    {
      "cell_type": "code",
      "execution_count": null,
      "metadata": {
        "id": "KDhYof0c_WJQ"
      },
      "outputs": [],
      "source": [
        "import torch\n",
        "import torch.nn as nn\n",
        "import torch.optim as optim\n",
        "import time\n",
        "\n",
        "# TODO: Your imports\n",
        "\n",
        "import psutil\n",
        "import matplotlib.pyplot as plt\n",
        "\n",
        "from torch.utils.data import DataLoader, TensorDataset\n",
        "from tqdm import tqdm\n",
        "from torch.autograd import Variable\n",
        "\n",
        "# End of TODO\n"
      ]
    },
    {
      "cell_type": "code",
      "execution_count": null,
      "metadata": {
        "colab": {
          "base_uri": "https://localhost:8080/"
        },
        "id": "IXVCjK-oyCbW",
        "outputId": "12cc639b-c8e1-4049-eee4-71744a13c870"
      },
      "outputs": [
        {
          "name": "stdout",
          "output_type": "stream",
          "text": [
            "Using device: cuda\n"
          ]
        }
      ],
      "source": [
        "# Check for GPU availability\n",
        "device = torch.device(\"cuda\" if torch.cuda.is_available() else \"cpu\")\n",
        "print(f\"Using device: {device}\") # You must use cuda for this notebook\n",
        "\n",
        "\n",
        "# Function to measure GPU memory usage\n",
        "def get_gpu_memory_usage():\n",
        "\n",
        "    # Todo: return the gpu memory useage for comparison\n",
        "\n",
        "\n",
        "    if torch.cuda.is_available():\n",
        "        return torch.cuda.memory_allocated(device) / (1024 ** 2)  # In MB\n",
        "    else:\n",
        "        return 0  # No GPU available\n",
        "\n",
        "\n",
        "    # End of Todo"
      ]
    },
    {
      "cell_type": "markdown",
      "metadata": {
        "id": "xK84pCyvyYpG"
      },
      "source": [
        "We have created a small model for using it with and with out lazy gradient. You can change it if you like."
      ]
    },
    {
      "cell_type": "code",
      "execution_count": null,
      "metadata": {
        "id": "xoGbByYRIavG"
      },
      "outputs": [],
      "source": [
        "# Define a model for intensive GPU usage\n",
        "class Model(nn.Module):\n",
        "    def __init__(self):\n",
        "        super(Model, self).__init__()\n",
        "\n",
        "        self.before = nn.Sequential(\n",
        "            nn.Linear(200*200, 100),\n",
        "            nn.ReLU(),\n",
        "            nn.Linear(100, 32),\n",
        "            nn.ReLU(),\n",
        "        )\n",
        "\n",
        "        self.after = nn.Sequential(\n",
        "            nn.Linear(32, 3000),\n",
        "            nn.ReLU(),\n",
        "            nn.Linear(3000, 200*200),\n",
        "            nn.ReLU(),\n",
        "            nn.Linear(200*200, 1),\n",
        "        )\n",
        "\n",
        "\n",
        "\n",
        "    def forward(self, x):\n",
        "        bottleneck_out = self.before(x)\n",
        "        final_out = self.after(bottleneck_out)\n",
        "        return final_out, bottleneck_out\n",
        "\n",
        "\n"
      ]
    },
    {
      "cell_type": "code",
      "execution_count": null,
      "metadata": {
        "id": "B749SC2jysWf"
      },
      "outputs": [],
      "source": [
        "\n",
        "def create_dataloader(batch_size=128):\n",
        "    # Todo: Create synthetic data and return a dataloader\n",
        "    # The data must be compatible with the model you use\n",
        "\n",
        "    num_samples=batch_size*10\n",
        "    x = torch.randn(num_samples, 200*200).to(device)  # Image-like input\n",
        "    y = torch.randn(num_samples, 1).to(device)  # Dummy target\n",
        "    dataset = TensorDataset(x, y)\n",
        "    return DataLoader(dataset, batch_size=batch_size, shuffle=True)\n",
        "\n",
        "\n",
        "\n",
        "    # End of Todo\n"
      ]
    },
    {
      "cell_type": "code",
      "execution_count": null,
      "metadata": {
        "id": "2YL0hFZZIx6-"
      },
      "outputs": [],
      "source": [
        "\n",
        "# Training loop\n",
        "def train_model(use_lazy_grad=False, num_epochs=1):\n",
        "    dataloader = create_dataloader()\n",
        "    print('Data is Created')\n",
        "    model = Model().to(device)\n",
        "    optimizer = optim.Adam(model.parameters(), lr=0.001)\n",
        "    criterion = nn.MSELoss()\n",
        "\n",
        "    mem_usage = []\n",
        "    start_time = time.time()\n",
        "\n",
        "    for epoch in range(num_epochs):\n",
        "        for batch_x, batch_y in tqdm(dataloader):\n",
        "\n",
        "            optimizer.zero_grad()\n",
        "            batch_x.requires_grad = True  # Track gradients\n",
        "            final_out, bottleneck_out = model(batch_x)\n",
        "\n",
        "\n",
        "            if use_lazy_grad:\n",
        "                # Todo: implement the lazy gradient method, using the bottleneck\n",
        "                # as the only segmentation you should compute gradient w.r.t\n",
        "                # bottleneck output and then backpropagate manually\n",
        "\n",
        "\n",
        "                bottleneck_out_detached = bottleneck_out.detach().requires_grad_()\n",
        "                final_out_detached = model.after(bottleneck_out_detached)\n",
        "                loss = criterion(final_out_detached, batch_y)\n",
        "\n",
        "                # Compute gradient w.r.t bottleneck output\n",
        "                grad_bottleneck = torch.autograd.grad(loss, bottleneck_out_detached, retain_graph=True)[0]\n",
        "\n",
        "                # Backpropagate manually\n",
        "                bottleneck_out.backward(grad_bottleneck)\n",
        "\n",
        "                # End of Todo\n",
        "\n",
        "            else:\n",
        "                # Todo: normal back prop of loss\n",
        "\n",
        "                loss = criterion(final_out, batch_y)\n",
        "                loss.backward()\n",
        "\n",
        "                # End of Todo\n",
        "\n",
        "            optimizer.step()\n",
        "\n",
        "            mem_usage.append(get_gpu_memory_usage())\n",
        "\n",
        "    elapsed_time = time.time() - start_time\n",
        "    return mem_usage, elapsed_time\n"
      ]
    },
    {
      "cell_type": "code",
      "execution_count": null,
      "metadata": {
        "colab": {
          "base_uri": "https://localhost:8080/"
        },
        "id": "4HIHESsQzC4X",
        "outputId": "d6f26f83-8246-4c56-ef7b-17dab3943722"
      },
      "outputs": [
        {
          "name": "stdout",
          "output_type": "stream",
          "text": [
            "Data is Created\n"
          ]
        },
        {
          "name": "stderr",
          "output_type": "stream",
          "text": [
            "100%|██████████| 10/10 [00:00<00:00, 44.62it/s]\n"
          ]
        },
        {
          "name": "stdout",
          "output_type": "stream",
          "text": [
            "Data is Created\n"
          ]
        },
        {
          "name": "stderr",
          "output_type": "stream",
          "text": [
            "100%|██████████| 10/10 [00:00<00:00, 236.88it/s]\n"
          ]
        }
      ],
      "source": [
        "# TODO:\n",
        "# Run training with and without lazy gradient propagation\n",
        "# Note that you should empty cache of cuda before, between and after your trainings\n",
        "# So your results will be valid\n",
        "\n",
        "\n",
        "\n",
        "\n",
        "torch.cuda.empty_cache()\n",
        "mem_usage_lazy, elapsed_time_lazy = train_model(use_lazy_grad=True)\n",
        "torch.cuda.empty_cache()\n",
        "mem_usage_standard, elapsed_time_standard = train_model(use_lazy_grad=False)\n",
        "torch.cuda.empty_cache()\n",
        "\n",
        "# End of TODO"
      ]
    },
    {
      "cell_type": "code",
      "execution_count": null,
      "metadata": {
        "colab": {
          "base_uri": "https://localhost:8080/",
          "height": 507
        },
        "id": "4Wri9xYQ1wdN",
        "outputId": "a30a2867-cee6-4059-8422-14f53951e06a"
      },
      "outputs": [
        {
          "data": {
            "image/png": "[encoded data removed]",
            "text/plain": [
              "<Figure size 640x480 with 1 Axes>"
            ]
          },
          "metadata": {},
          "output_type": "display_data"
        },
        {
          "name": "stdout",
          "output_type": "stream",
          "text": [
            "Standard Backprop Time: 0.05 sec\n",
            "Lazy Gradient Backprop Time: 0.23 sec\n"
          ]
        }
      ],
      "source": [
        "# TODO: Plot memory usage and compare the time\n",
        "# that each method needs\n",
        "\n",
        "plt.plot(mem_usage_standard, label='Standard Backprop')\n",
        "plt.plot(mem_usage_lazy, label='Lazy Gradient Backprop')\n",
        "plt.xlabel('Training Steps')\n",
        "plt.ylabel('GPU Memory Usage (MB)')\n",
        "plt.legend()\n",
        "plt.title('GPU Memory Usage')\n",
        "plt.show()\n",
        "\n",
        "\n",
        "print(f\"Standard Backprop Time: {elapsed_time_standard:.2f} sec\")\n",
        "print(f\"Lazy Gradient Backprop Time: {elapsed_time_lazy:.2f} sec\")\n",
        "\n",
        "# End of TODO"
      ]
    },
    {
      "cell_type": "markdown",
      "metadata": {
        "id": "BCfcyl9H16Sb"
      },
      "source": [
        "PyTorch provides a built-in gradient checkpointing feature through torch.utils.checkpoint. This makes it easy to implement checkpointing without manually managing activation storage and recomputation.\n",
        "\n"
      ]
    },
    {
      "cell_type": "markdown",
      "metadata": {
        "id": "LLrb5hYsHcjv"
      },
      "source": [
        "First, let's create a simple Sequential model and checkpoint it. We can also verify that the checkpointing doesn't change the value of gradients or the activations."
      ]
    },
    {
      "cell_type": "code",
      "execution_count": null,
      "metadata": {
        "colab": {
          "base_uri": "https://localhost:8080/"
        },
        "id": "etml_C4IHda9",
        "outputId": "30ceddf2-d38a-4eca-87c4-f4386a716394"
      },
      "outputs": [
        {
          "name": "stderr",
          "output_type": "stream",
          "text": [
            "/usr/local/lib/python3.11/dist-packages/torch/utils/checkpoint.py:553: UserWarning: torch.utils.checkpoint.checkpoint_sequential: the use_reentrant parameter should be passed explicitly. In version 2.5 we will raise an exception if use_reentrant is not passed. use_reentrant=False is recommended, but if you need to preserve the current default behavior, you can pass use_reentrant=True. Refer to docs for more details on the differences between the two variants.\n",
            "  warnings.warn(\n"
          ]
        }
      ],
      "source": [
        "from torch.utils.checkpoint import checkpoint_sequential\n",
        "\n",
        "\n",
        "# TODO: create a simple Sequential model\n",
        "model = nn.Sequential(\n",
        "    nn.Linear(100, 50),\n",
        "    nn.ReLU(),\n",
        "    nn.Linear(50, 20),\n",
        "    nn.ReLU(),\n",
        "    nn.Linear(20, 5),\n",
        "    nn.ReLU()\n",
        ")\n",
        "\n",
        "# TODO: create the model inputs\n",
        "input_var = Variable(torch.randn(1, 100), requires_grad=True)\n",
        "\n",
        "# TODO: set the number of checkpoint segments\n",
        "segments = 2\n",
        "\n",
        "# TODO: get the modules in the model. These modules should be in the order\n",
        "# the model should be executed\n",
        "\n",
        "modules = [module for k, module in model._modules.items()]\n",
        "\n",
        "# TODO: now call the checkpoint API and get the output\n",
        "out = checkpoint_sequential(modules, segments, input_var)\n",
        "\n",
        "# TODO: run the backwards pass on the model. For backwards pass, for simplicity,\n",
        "# we won't calculate the loss and rather backprop on out.sum()\n",
        "\n",
        "model.zero_grad()\n",
        "out.sum().backward()\n",
        "\n",
        "# TODO: now we save the output and parameter gradients that we will use for\n",
        "# comparison purposes with the non-checkpointed run.\n",
        "\n",
        "output_checkpointed = out.data.clone()\n",
        "grad_checkpointed = {}\n",
        "for name, param in model.named_parameters():\n",
        "    grad_checkpointed[name] = param.grad.data.clone()"
      ]
    },
    {
      "cell_type": "markdown",
      "metadata": {
        "id": "egn1PoE2L65t"
      },
      "source": [
        "Now that we have executed the checkpointed pass on the model, let's also run the non-checkpointed model and verify that the checkpoint API doesn't change the model outputs or the parameter gradients."
      ]
    },
    {
      "cell_type": "code",
      "execution_count": null,
      "metadata": {
        "id": "UTo9dV21L87M"
      },
      "outputs": [],
      "source": [
        "\n",
        "\n",
        "# TODO: non-checkpointed run of the model\n",
        "original = model\n",
        "\n",
        "# TODO: create a new variable using the same tensor data\n",
        "x = Variable(input_var.data, requires_grad=True)\n",
        "\n",
        "# TODO: get the model output and save it to prevent any modifications\n",
        "out = original(x)\n",
        "out_not_checkpointed = out.data.clone()\n",
        "\n",
        "# TODO: calculate the gradient now and save the parameter gradients values\n",
        "\n",
        "original.zero_grad()\n",
        "out.sum().backward()\n",
        "grad_not_checkpointed = {}\n",
        "for name, param in model.named_parameters():\n",
        "    grad_not_checkpointed[name] = param.grad.data.clone()"
      ]
    },
    {
      "cell_type": "markdown",
      "metadata": {
        "id": "8pFFg-c9MLbL"
      },
      "source": [
        "Now that we have done the checkpointed and non-checkpointed pass of the model and saved the output and parameter gradients, let's compare their values"
      ]
    },
    {
      "cell_type": "code",
      "execution_count": null,
      "metadata": {
        "id": "oQ9zmfkcMN7T"
      },
      "outputs": [],
      "source": [
        "# TODO: compare the output and parameters gradients. they must be equal\n",
        "\n",
        "# Check if outputs are equal\n",
        "assert output_checkpointed.equal(out_not_checkpointed), \"Outputs do not match!\"\n",
        "\n",
        "# Check if grads are equal\n",
        "for name in grad_checkpointed:\n",
        "    assert grad_checkpointed[name].equal(grad_not_checkpointed[name]), f\"Gradient mismatch at {name}!\"\n",
        "\n",
        "print(\"All checks passed!\")"
      ]
    },
    {
      "cell_type": "markdown",
      "metadata": {
        "id": "56A_N_M3Ma4t"
      },
      "source": [
        "So, from this example, we can see that it's very easy to use checkpointing on Sequential models and that the checkpoint API doesn't alter any data. The Checkpoint API implementation is based on autograd and hence there is no need for explicitly specifying what the execution of backwards should look like"
      ]
    },
    {
      "cell_type": "markdown",
      "metadata": {
        "id": "AEeJgxBwR_JP"
      },
      "source": [
        "# Gradient Accumulation in Deep Learning (25 points)\n",
        "\n",
        "\n",
        "### 1. Introduction\n",
        "\n",
        "Training deep learning models with large batch sizes can be difficult due to memory limitations, especially when using large datasets or deep networks. **Gradient Accumulation** is a technique that allows us to simulate large batch sizes without increasing memory usage. This tutorial will cover:\n",
        "\n",
        "1. **The theory behind Gradient Accumulation**\n",
        "2. **Using it in PyTorch**\n",
        "3. **Observing its effects**\n",
        "\n",
        "---\n",
        "\n",
        "## 2. Theory Behind Gradient Accumulation\n",
        "\n",
        "### 2.1 What is Gradient Accumulation?\n",
        "Instead of updating the model parameters after every mini-batch, **Gradient Accumulation** allows us to accumulate gradients over multiple mini-batches before performing an update. This effectively simulates training with a larger batch size.\n",
        "\n",
        "### 2.2 Why Use Gradient Accumulation?\n",
        "- **Overcome Memory Limits**: Training with large batch sizes often exceeds GPU memory capacity. Accumulating gradients allows training on smaller mini-batches while maintaining the benefits of larger batch training.\n",
        "- **Stable Training**: Larger batch sizes help in stable updates and reducing variance in gradient estimation.\n",
        "- **Effective Batch Size**: If GPU memory allows batch size `B` but we need `N`, we can accumulate gradients for `N/B` steps before updating.\n",
        "\n",
        "### 2.3 How Does It Work?\n",
        "If `loss` is computed on `batch_size = B`, instead of calling `optimizer.step()` every step, we:\n",
        "1. Compute gradients on `B` and accumulate them.\n",
        "2. Repeat for `K` iterations, accumulating gradients.\n",
        "3. Update weights only after `K` steps.\n",
        "4. Reset gradients after update.\n",
        "\n",
        "This results in an **effective batch size** of `B * K` without needing extra memory.\n"
      ]
    },
    {
      "cell_type": "markdown",
      "metadata": {
        "id": "3M4jGKzjswGd"
      },
      "source": [
        "first create a simple model and implement the function to train with accumulation."
      ]
    },
    {
      "cell_type": "code",
      "execution_count": null,
      "metadata": {
        "id": "mlVph1YjhQdg"
      },
      "outputs": [],
      "source": [
        "import torch\n",
        "import torch.nn as nn\n",
        "import torch.optim as optim\n",
        "\n",
        "def train_with_gradient_accumulation(model, dataloader, accumulation_steps):\n",
        "    criterion = nn.MSELoss()\n",
        "    optimizer = optim.SGD(model.parameters(), lr=0.01)\n",
        "    model.train()\n",
        "    optimizer.zero_grad()\n",
        "    mem_usage = []\n",
        "\n",
        "    for batch_idx, (inputs, targets) in enumerate(dataloader):\n",
        "        # TODO: Get loss\n",
        "\n",
        "        inputs, targets = inputs.to(device), targets.to(device)\n",
        "        outputs = model(inputs)\n",
        "        loss = criterion(outputs, targets)\n",
        "\n",
        "        # TODO: Normalize loss by accumulation steps\n",
        "        loss = loss / accumulation_steps\n",
        "\n",
        "        # TODO: Backpropagate loss\n",
        "        loss.backward()\n",
        "\n",
        "\n",
        "        # TODO: Accumulate gradients and update after `accumulation_steps`\n",
        "        if (batch_idx + 1) % accumulation_steps == 0:\n",
        "\n",
        "            mem_usage.append(get_gpu_memory_usage())\n",
        "            optimizer.step()\n",
        "            optimizer.zero_grad()\n",
        "\n",
        "\n",
        "    return mem_usage\n",
        "\n",
        "# TODO: Define a simple model\n",
        "class SimpleModel(nn.Module):\n",
        "    def __init__(self, input_dim, hidden_dim, output_dim):\n",
        "        super(SimpleModel, self).__init__()\n",
        "        self.fc = nn.Sequential(\n",
        "            nn.Linear(input_dim, hidden_dim),\n",
        "            nn.ReLU(),\n",
        "            nn.Linear(hidden_dim, hidden_dim),\n",
        "            nn.ReLU(),\n",
        "            nn.Linear(hidden_dim, hidden_dim),\n",
        "            nn.ReLU(),\n",
        "            nn.Linear(hidden_dim, hidden_dim),\n",
        "            nn.ReLU(),\n",
        "            nn.Linear(hidden_dim, hidden_dim),\n",
        "            nn.ReLU(),\n",
        "            nn.Linear(hidden_dim, output_dim),\n",
        "        )\n",
        "\n",
        "    def forward(self, x):\n",
        "        return self.fc(x)\n",
        "\n",
        "\n",
        "\n",
        "\n",
        "model = SimpleModel(input_dim=50000, hidden_dim=1500,output_dim=2000).to(device)"
      ]
    },
    {
      "cell_type": "markdown",
      "metadata": {
        "id": "1t7_MX4ws5NH"
      },
      "source": [
        "Now create a dataloader with the mentioned parameters"
      ]
    },
    {
      "cell_type": "code",
      "execution_count": null,
      "metadata": {
        "id": "qn5mPZnHtAYi"
      },
      "outputs": [],
      "source": [
        "\n",
        "def create_dataloader(batch_size, accumulation_steps):\n",
        "    # TODO: create dataloader with batch size and same number of samples\n",
        "    # for different accumulation_steps\n",
        "\n",
        "    num_samples=batch_size*10 * accumulation_steps\n",
        "    print('num_samples:', num_samples)\n",
        "    x = torch.randn(num_samples, 50000).to(device)  # Image-like input\n",
        "    y = torch.randn(num_samples, 2000).to(device)  # Dummy target\n",
        "    dataset = TensorDataset(x, y)\n",
        "    return DataLoader(dataset, batch_size=batch_size, shuffle=True)"
      ]
    },
    {
      "cell_type": "markdown",
      "metadata": {
        "id": "fdlqgbb4tChj"
      },
      "source": [
        "Lets train with accumulation and save mem usage."
      ]
    },
    {
      "cell_type": "code",
      "execution_count": null,
      "metadata": {
        "colab": {
          "base_uri": "https://localhost:8080/"
        },
        "id": "eUngBnO5tHUH",
        "outputId": "3ec06849-23fb-4064-e06c-c1d21b454127"
      },
      "outputs": [
        {
          "name": "stdout",
          "output_type": "stream",
          "text": [
            "num_samples: 4000\n"
          ]
        }
      ],
      "source": [
        "batch_size = 100  # Small batch size due to memory limits you can change it\n",
        "effective_batch_size = 400\n",
        "accumulation_steps = effective_batch_size // batch_size\n",
        "\n",
        "# TODO: train with accumulation_steps\n",
        "# dont forget to empty cuda cache\n",
        "\n",
        "dataloader = create_dataloader(batch_size, accumulation_steps)\n",
        "\n",
        "torch.cuda.empty_cache()\n",
        "mem_usage_accumulate = train_with_gradient_accumulation(model, dataloader, accumulation_steps)\n",
        "\n",
        "torch.cuda.empty_cache()"
      ]
    },
    {
      "cell_type": "markdown",
      "metadata": {
        "id": "vLmsvbEQtUs1"
      },
      "source": [
        "And now train in the classic way with no accumulation."
      ]
    },
    {
      "cell_type": "code",
      "execution_count": null,
      "metadata": {
        "colab": {
          "base_uri": "https://localhost:8080/"
        },
        "id": "MZyulZ2qnFh-",
        "outputId": "199b107f-cf9f-42e4-af02-37146e23df1c"
      },
      "outputs": [
        {
          "name": "stdout",
          "output_type": "stream",
          "text": [
            "num_samples: 4000\n"
          ]
        }
      ],
      "source": [
        "# TODO: train with accumulation_steps=1 (it means standard back prop)\n",
        "\n",
        "batch_size = 400\n",
        "effective_batch_size = 400\n",
        "accumulation_steps = effective_batch_size // batch_size\n",
        "dataloader = create_dataloader(batch_size, accumulation_steps)\n",
        "\n",
        "mem_usage_standard = train_with_gradient_accumulation(model, dataloader, accumulation_steps)\n",
        "torch.cuda.empty_cache()"
      ]
    },
    {
      "cell_type": "markdown",
      "metadata": {
        "id": "2I7EsSvnttF2"
      },
      "source": [
        "Check if we actually used less memory:"
      ]
    },
    {
      "cell_type": "code",
      "execution_count": null,
      "metadata": {
        "colab": {
          "base_uri": "https://localhost:8080/",
          "height": 472
        },
        "id": "zZ4sNg0ftymJ",
        "outputId": "b8281c90-3e7d-468f-bb9f-6c02ec22dc36"
      },
      "outputs": [
        {
          "data": {
            "image/png": "[encoded data removed]",
            "text/plain": [
              "<Figure size 640x480 with 1 Axes>"
            ]
          },
          "metadata": {},
          "output_type": "display_data"
        }
      ],
      "source": [
        "# TODO: Plot memory usage\n",
        "\n",
        "plt.plot(mem_usage_standard, label='Standard Backprop')\n",
        "plt.plot(mem_usage_accumulate, label='Accululate Gradient Backprop')\n",
        "plt.xlabel('Training Steps')\n",
        "plt.ylabel('GPU Memory Usage (MB)')\n",
        "plt.legend()\n",
        "plt.title('GPU Memory Usage')\n",
        "plt.show()\n"
      ]
    },
    {
      "cell_type": "markdown",
      "metadata": {
        "id": "VkEyfapirUnh"
      },
      "source": [
        "##  Conclusion\n",
        "\n",
        "- **Gradient Accumulation** helps simulate large batch sizes without requiring more memory.\n",
        "- It improves **training stability** and allows training on **memory-constrained GPUs**.\n",
        "- We implemented it **from scratch** and in **PyTorch**.\n",
        "- We visualized its **effects** on loss stabilization.\n",
        "\n",
        "Gradient Accumulation is a useful trick when working with **deep networks and large datasets** on limited hardware. 🚀\n"
      ]
    },
    {
      "cell_type": "markdown",
      "metadata": {
        "id": "Gz7HCNMKw6AQ"
      },
      "source": [
        "# Sources of Randomness (5 points)\n",
        "run the code below. the outputs are different. Why do you think this happened?"
      ]
    },
    {
      "cell_type": "code",
      "execution_count": null,
      "metadata": {
        "colab": {
          "base_uri": "https://localhost:8080/"
        },
        "id": "9YuEzyOYx43P",
        "outputId": "c0c504d5-6eba-4da0-98f4-5274ed5d4c51"
      },
      "outputs": [
        {
          "name": "stdout",
          "output_type": "stream",
          "text": [
            "tensor([[0.0121]], device='cuda:0', grad_fn=<AddmmBackward0>)\n",
            "tensor([[-0.0294]], device='cuda:0', grad_fn=<AddmmBackward0>)\n"
          ]
        }
      ],
      "source": [
        "input = torch.randn(1, 5).to(device)\n",
        "model = SimpleModel(input_dim=5, hidden_dim=1500,output_dim=1).to(device)\n",
        "\n",
        "out = model(input)\n",
        "print(out)\n",
        "\n",
        "model = SimpleModel(input_dim=5, hidden_dim=1500,output_dim=1).to(device)\n",
        "\n",
        "out = model(input)\n",
        "print(out)"
      ]
    },
    {
      "cell_type": "markdown",
      "metadata": {
        "id": "IiFRFPK7yt7n"
      },
      "source": [
        "## Controlling Sources of Randomness in PyTorch Models (with GPU)\n",
        "\n",
        "### Introduction\n",
        "Randomness plays a crucial role in deep learning, but uncontrolled randomness can lead to inconsistent results. This part explores the sources of randomness in PyTorch and how to control them, especially when using a GPU.\n",
        "\n",
        "---\n",
        "\n",
        "## **1. Understanding Sources of Randomness**\n",
        "In PyTorch, randomness can come from multiple sources:\n",
        "\n",
        "1. **Python's built-in random module**: Used for operations that involve randomness in Python code.\n",
        "2. **NumPy**: If NumPy is used for data augmentation or initialization.\n",
        "3. **PyTorch CPU Randomness**: Random initialization of weights, dropout layers, etc.\n",
        "4. **PyTorch GPU Randomness**: When CUDA is used, operations can be non-deterministic.\n",
        "5. **cuDNN Backend**: NVIDIA's cuDNN has optimizations that may introduce non-determinism.\n",
        "\n",
        "To get reproducible results, all these sources must be controlled."
      ]
    },
    {
      "cell_type": "markdown",
      "metadata": {
        "id": "BWK0sdP22upC"
      },
      "source": [
        "## **2. Setting Seeds in PyTorch**\n",
        "To control randomness, we define a function that sets the seed for all sources:"
      ]
    },
    {
      "cell_type": "code",
      "execution_count": null,
      "metadata": {
        "id": "O_1V5NuG2yip"
      },
      "outputs": [],
      "source": [
        "import os\n",
        "import random\n",
        "import numpy as np\n",
        "import torch\n",
        "\n",
        "def set_seed(seed):\n",
        "    # TODO: set these seeds:\n",
        "    # Python Hash seed\n",
        "    # Python random module\n",
        "    # NumPy seed\n",
        "    # PyTorch CPU seed\n",
        "    # PyTorch CUDA seed\n",
        "    # Multi-GPU seed\n",
        "    # Ensure deterministic cudnn\n",
        "    # Disables optimization that may introduce randomness(benchmark)\n",
        "\n",
        "\n",
        "    os.environ['PYTHONHASHSEED'] = str(seed)\n",
        "    random.seed(seed)\n",
        "    np.random.seed(seed)\n",
        "    torch.manual_seed(seed)\n",
        "\n",
        "    if torch.cuda.is_available():\n",
        "        torch.cuda.manual_seed(seed)\n",
        "        torch.cuda.manual_seed_all(seed)\n",
        "        torch.backends.cudnn.deterministic = True\n",
        "        torch.backends.cudnn.benchmark = False\n",
        "\n"
      ]
    },
    {
      "cell_type": "markdown",
      "metadata": {
        "id": "VWyHuR0F3CeH"
      },
      "source": [
        "Now check if the results are the same:"
      ]
    },
    {
      "cell_type": "code",
      "execution_count": null,
      "metadata": {
        "colab": {
          "base_uri": "https://localhost:8080/"
        },
        "id": "28KYX2nX23cN",
        "outputId": "606e6368-955d-4f74-c5e3-090805a088d7"
      },
      "outputs": [
        {
          "name": "stdout",
          "output_type": "stream",
          "text": [
            "tensor([[0.0061]], device='cuda:0', grad_fn=<AddmmBackward0>)\n",
            "tensor([[0.0061]], device='cuda:0', grad_fn=<AddmmBackward0>)\n"
          ]
        }
      ],
      "source": [
        "input = torch.randn(1, 5).to(device)\n",
        "\n",
        "set_seed(123)  # Set seed to 123 (or any fixed value)\n",
        "model = SimpleModel(input_dim=5, hidden_dim=1500,output_dim=1).to(device)\n",
        "\n",
        "out = model(input)\n",
        "print(out)\n",
        "\n",
        "set_seed(123)  # Set seed to 123 (or any fixed value)\n",
        "\n",
        "model = SimpleModel(input_dim=5, hidden_dim=1500,output_dim=1).to(device)\n",
        "\n",
        "out = model(input)\n",
        "print(out)"
      ]
    },
    {
      "cell_type": "markdown",
      "metadata": {
        "id": "M5L0iare3WAM"
      },
      "source": [
        "## **Key Takeaways**\n",
        "1. Randomness in PyTorch comes from multiple sources: Python, NumPy, PyTorch (CPU & GPU), and cuDNN.\n",
        "2. Using `set_seed()` ensures reproducibility in experiments.\n",
        "3. cuDNN optimizations can introduce non-determinism; setting `torch.backends.cudnn.deterministic = True` helps mitigate this.\n",
        "4. Always set the seed before model initialization to ensure identical starting conditions.\n",
        "\n",
        "Reproducibility is critical for debugging and fair benchmarking of deep learning models. 🚀\n"
      ]
    },
    {
      "cell_type": "markdown",
      "metadata": {
        "id": "8dP9w2HP4HuG"
      },
      "source": [
        "**Note**\n",
        "\n",
        "Setting torch.backends.cudnn.deterministic = True makes the code slower because it forces cuDNN to use deterministic algorithms instead of its default highly-optimized, non-deterministic implementations. Here’s why:\n",
        "1. cuDNN Optimizations\n",
        "\n",
        "cuDNN (CUDA Deep Neural Network Library) provides highly optimized implementations of deep learning operations, such as convolutions and matrix multiplications. By default, cuDNN selects the fastest algorithm available based on the given input size, hardware, and configuration.\n",
        "2. Deterministic vs. Non-Deterministic Algorithms\n",
        "\n",
        "Some of cuDNN’s fastest algorithms introduce minor sources of randomness due to floating-point precision differences in parallel execution, particularly in:\n",
        "\n",
        "    Convolution operations (e.g., torch.nn.Conv2d)\n",
        "    Batch normalization\n",
        "    Recurrent layers (e.g., LSTMs)\n",
        "\n",
        "When torch.backends.cudnn.deterministic = True, PyTorch forces cuDNN to use only deterministic versions of these algorithms. However, deterministic algorithms are not always the most optimized ones, leading to slower performance."
      ]
    },
    {
      "cell_type": "markdown",
      "metadata": {
        "id": "0MbFW4pH9k8_"
      },
      "source": [
        "# Second-Order Gradients in Deep Learning (20 points)\n",
        "\n",
        "What are Second-Order Gradients?\n",
        "\n",
        "In deep learning, second-order gradients refer to the derivatives of gradients (i.e., the second derivative of a loss function with respect to model parameters). These are commonly used in optimization methods that require information about the curvature of the loss function.\n",
        "\n",
        "\n",
        "\n",
        "### **Mathematically**:\n",
        "- **First-order gradient**: $ g = \\nabla_\\theta L(\\theta) $ (gradient of loss $ L $ w.r.t. parameters $ \\theta $)\n",
        "- **Second-order gradient (Hessian)**: $ H = \\nabla^2_\\theta L(\\theta) $ (derivative of $ g $, which captures curvature)\n",
        "\n",
        "\n",
        "###**Why Use Second-Order Gradients?**\n",
        "\n",
        " *   Better Optimization – Second-order methods like Newton’s Method use curvature information to converge faster than first-order methods (like SGD).\n",
        " *    Natural Gradient Descent – Second-order gradients help in adapting the learning rate in different directions based on the Hessian matrix.\n",
        " *   Meta-Learning – Algorithms like MAML (Model-Agnostic Meta-Learning) require second-order gradients to update learning rates.\n",
        " *   Adversarial Training – Computing second-order derivatives is useful for generating adversarial examples.\n",
        " *   Regularization – Used in some regularization techniques like curvature-based penalties.\n",
        "\n",
        "\n",
        "\n",
        "###**Challenges of Second-Order Gradients**\n",
        "\n",
        " * Computationally Expensive – Computing second-order derivatives (Hessian) can be costly, especially for deep networks.\n",
        " * Memory Intensive – Requires additional memory, making it impractical for very large models.\n",
        " * Numerical Stability – Sometimes leads to unstable gradients and requires careful tuning."
      ]
    },
    {
      "cell_type": "markdown",
      "metadata": {
        "id": "FlP1wlI_C4-x"
      },
      "source": [
        "The second derivative (Hessian matrix) provides information about how the gradient changes. By moving in the direction of the second-order gradient, we can adaptively adjust step sizes based on how steep or flat the loss landscape is.\n",
        "\n",
        "In the simplest case:\n",
        "\n",
        "$\n",
        "θ′=θ−α∇L(θ)−β∇2L(θ)\n",
        "$\n",
        "\n",
        "where:\n",
        "\n",
        " * ∇2L(θ) (the second-order gradient) adjusts the update based on curvature,\n",
        " * β is a small scaling factor."
      ]
    },
    {
      "cell_type": "code",
      "execution_count": null,
      "metadata": {
        "id": "8AEKRwhk_ynt"
      },
      "outputs": [],
      "source": [
        "class SimpleNet(nn.Module):\n",
        "    def __init__(self):\n",
        "        super().__init__()\n",
        "        # TODO: define a model (1d to 1d)\n",
        "\n",
        "        self.fc = nn.Sequential(\n",
        "            nn.Linear(1, 10),\n",
        "            nn.ReLU(),\n",
        "            nn.Linear(10, 5),\n",
        "            nn.ReLU(),\n",
        "            nn.Linear(5, 1),\n",
        "        )\n",
        "\n",
        "    def forward(self, x):\n",
        "        # TODO: implement forward\n",
        "\n",
        "        return self.fc(x)\n",
        "\n",
        "\n",
        "def generate_data():\n",
        "    # TODO: Generate data for 1d to 1d model\n",
        "    # a simple linear data with noise is ok\n",
        "\n",
        "    x = torch.linspace(-5, 5, 100).view(-1, 1)\n",
        "    y = 2 * x + 3 + 0.5 * torch.randn_like(x)  # y = 2x + 3 + noise\n",
        "    return x, y\n",
        "\n",
        "\n",
        "model = SimpleNet()\n",
        "loss_fn = nn.MSELoss()\n",
        "optimizer = optim.SGD(model.parameters(), lr=0.01)\n",
        "\n",
        "\n",
        "x_train, y_train = generate_data()\n",
        "num_epochs = 100"
      ]
    },
    {
      "cell_type": "code",
      "execution_count": null,
      "metadata": {
        "colab": {
          "base_uri": "https://localhost:8080/"
        },
        "id": "ZXtzPDRbANm5",
        "outputId": "89d0eeea-fdbf-49ee-ce51-f04477bc95c1"
      },
      "outputs": [
        {
          "name": "stdout",
          "output_type": "stream",
          "text": [
            "Epoch 1/100, Loss: 41.5416\n",
            "Epoch 2/100, Loss: 41.2161\n",
            "Epoch 3/100, Loss: 40.9039\n",
            "Epoch 4/100, Loss: 40.6017\n",
            "Epoch 5/100, Loss: 40.3068\n",
            "Epoch 6/100, Loss: 40.0165\n",
            "Epoch 7/100, Loss: 39.7284\n",
            "Epoch 8/100, Loss: 39.4402\n",
            "Epoch 9/100, Loss: 39.1516\n",
            "Epoch 10/100, Loss: 38.8645\n",
            "Epoch 11/100, Loss: 38.5725\n",
            "Epoch 12/100, Loss: 38.3046\n",
            "Epoch 13/100, Loss: 38.0689\n",
            "Epoch 14/100, Loss: 37.8216\n",
            "Epoch 15/100, Loss: 37.5579\n",
            "Epoch 16/100, Loss: 37.2760\n",
            "Epoch 17/100, Loss: 36.9738\n",
            "Epoch 18/100, Loss: 36.6496\n",
            "Epoch 19/100, Loss: 36.3020\n",
            "Epoch 20/100, Loss: 35.9288\n",
            "Epoch 21/100, Loss: 35.5286\n",
            "Epoch 22/100, Loss: 35.0996\n",
            "Epoch 23/100, Loss: 34.6401\n",
            "Epoch 24/100, Loss: 34.1488\n",
            "Epoch 25/100, Loss: 33.6243\n",
            "Epoch 26/100, Loss: 33.0651\n",
            "Epoch 27/100, Loss: 32.4702\n",
            "Epoch 28/100, Loss: 31.8388\n",
            "Epoch 29/100, Loss: 31.1702\n",
            "Epoch 30/100, Loss: 30.4643\n",
            "Epoch 31/100, Loss: 29.7211\n",
            "Epoch 32/100, Loss: 28.9412\n",
            "Epoch 33/100, Loss: 28.1257\n",
            "Epoch 34/100, Loss: 27.2760\n",
            "Epoch 35/100, Loss: 26.3945\n",
            "Epoch 36/100, Loss: 25.4841\n",
            "Epoch 37/100, Loss: 24.5486\n",
            "Epoch 38/100, Loss: 23.5919\n",
            "Epoch 39/100, Loss: 22.6192\n",
            "Epoch 40/100, Loss: 21.6359\n",
            "Epoch 41/100, Loss: 20.6489\n",
            "Epoch 42/100, Loss: 19.6661\n",
            "Epoch 43/100, Loss: 18.6966\n",
            "Epoch 44/100, Loss: 17.7512\n",
            "Epoch 45/100, Loss: 16.8398\n",
            "Epoch 46/100, Loss: 15.9622\n",
            "Epoch 47/100, Loss: 15.1147\n",
            "Epoch 48/100, Loss: 14.3090\n",
            "Epoch 49/100, Loss: 13.5486\n",
            "Epoch 50/100, Loss: 12.8329\n",
            "Epoch 51/100, Loss: 12.1684\n",
            "Epoch 52/100, Loss: 11.5528\n",
            "Epoch 53/100, Loss: 10.9832\n",
            "Epoch 54/100, Loss: 10.4633\n",
            "Epoch 55/100, Loss: 9.9860\n",
            "Epoch 56/100, Loss: 9.5536\n",
            "Epoch 57/100, Loss: 9.1587\n",
            "Epoch 58/100, Loss: 8.8012\n",
            "Epoch 59/100, Loss: 8.4788\n",
            "Epoch 60/100, Loss: 8.1855\n",
            "Epoch 61/100, Loss: 7.9203\n",
            "Epoch 62/100, Loss: 7.6813\n",
            "Epoch 63/100, Loss: 7.4630\n",
            "Epoch 64/100, Loss: 7.2646\n",
            "Epoch 65/100, Loss: 7.0852\n",
            "Epoch 66/100, Loss: 6.9198\n",
            "Epoch 67/100, Loss: 6.7684\n",
            "Epoch 68/100, Loss: 6.6293\n",
            "Epoch 69/100, Loss: 6.5009\n",
            "Epoch 70/100, Loss: 6.3830\n",
            "Epoch 71/100, Loss: 6.2723\n",
            "Epoch 72/100, Loss: 6.1690\n",
            "Epoch 73/100, Loss: 6.0723\n",
            "Epoch 74/100, Loss: 5.9816\n",
            "Epoch 75/100, Loss: 5.8960\n",
            "Epoch 76/100, Loss: 5.8150\n",
            "Epoch 77/100, Loss: 5.7385\n",
            "Epoch 78/100, Loss: 5.6650\n",
            "Epoch 79/100, Loss: 5.5947\n",
            "Epoch 80/100, Loss: 5.5273\n",
            "Epoch 81/100, Loss: 5.4626\n",
            "Epoch 82/100, Loss: 5.4004\n",
            "Epoch 83/100, Loss: 5.3403\n",
            "Epoch 84/100, Loss: 5.2823\n",
            "Epoch 85/100, Loss: 5.2264\n",
            "Epoch 86/100, Loss: 5.1717\n",
            "Epoch 87/100, Loss: 5.1186\n",
            "Epoch 88/100, Loss: 5.0670\n",
            "Epoch 89/100, Loss: 5.0169\n",
            "Epoch 90/100, Loss: 4.9681\n",
            "Epoch 91/100, Loss: 4.9206\n",
            "Epoch 92/100, Loss: 4.8744\n",
            "Epoch 93/100, Loss: 4.8291\n",
            "Epoch 94/100, Loss: 4.7849\n",
            "Epoch 95/100, Loss: 4.7418\n",
            "Epoch 96/100, Loss: 4.6998\n",
            "Epoch 97/100, Loss: 4.6588\n",
            "Epoch 98/100, Loss: 4.6187\n",
            "Epoch 99/100, Loss: 4.5795\n",
            "Epoch 100/100, Loss: 4.5413\n",
            "Training complete!\n"
          ]
        }
      ],
      "source": [
        "\n",
        "for epoch in range(num_epochs):\n",
        "\n",
        "    # TODO: implement the loop using second-order gradients\n",
        "\n",
        "    optimizer.zero_grad()\n",
        "    y_pred = model(x_train)\n",
        "    loss = loss_fn(y_pred, y_train)\n",
        "\n",
        "    # TODO: First-order gradient\n",
        "    grad_1 = torch.autograd.grad(loss, model.parameters(), create_graph=True)\n",
        "\n",
        "    # TODO: Convert first-order gradient to scalar before computing second-order gradient\n",
        "\n",
        "    grad_1_sum = sum([g.sum() for g in grad_1])\n",
        "    grad_2 = torch.autograd.grad(grad_1_sum, model.parameters(), retain_graph=True)\n",
        "\n",
        "\n",
        "    # TODO: Update parameters manually (Meta-learning step)\n",
        "    # use first order and second order gradients\n",
        "\n",
        "    with torch.no_grad():\n",
        "        for param, g1, g2 in zip(model.parameters(), grad_1, grad_2):\n",
        "            param -= 0.001 * g1 + 0.0001 * g2  # Adjust step size using second-order info\n",
        "\n",
        "    # TODO: print loss\n",
        "    print(f\"Epoch {epoch+1}/{num_epochs}, Loss: {loss.item():.4f}\")\n",
        "\n",
        "print(\"Training complete!\")\n"
      ]
    },
    {
      "cell_type": "code",
      "execution_count": null,
      "metadata": {
        "colab": {
          "base_uri": "https://localhost:8080/",
          "height": 487
        },
        "id": "CuBNlCk2BUk1",
        "outputId": "2685cd68-d249-4496-c41a-eefb5a73eeca"
      },
      "outputs": [
        {
          "data": {
            "image/png": "[encoded data removed]",
            "text/plain": [
              "<Figure size 800x500 with 1 Axes>"
            ]
          },
          "metadata": {},
          "output_type": "display_data"
        }
      ],
      "source": [
        "# TODO: evaluate the model using some data and visuilize the model output\n",
        "# and compare it with the real function\n",
        "\n",
        "model.eval()\n",
        "y = model(x_train).detach().numpy()\n",
        "\n",
        "plt.figure(figsize=(8, 5))\n",
        "plt.scatter(x_train, y_train, color='b', label='True points', alpha=0.7)\n",
        "plt.plot(x_train, y, color='r', linestyle='dashed', label='Model function')\n",
        "plt.xlabel('x_train')\n",
        "plt.ylabel('y_train')\n",
        "plt.title('Visualization of Generated Data')\n",
        "plt.legend()\n",
        "plt.grid(True)\n",
        "plt.show()"
      ]
    },
    {
      "cell_type": "markdown",
      "metadata": {
        "id": "RVsqXB18CopB"
      },
      "source": [
        "## Interpretation of Moving in the Second-Order Direction\n",
        "\n",
        "* If the second derivative is large (high curvature) → The loss is changing rapidly → Smaller step sizes.\n",
        "* If the second derivative is small (low curvature) → The loss changes slowly → Larger step sizes.\n",
        "\n",
        "This is the core idea behind Newton's method"
      ]
    }
  ],
  "metadata": {
    "accelerator": "GPU",
    "colab": {
      "gpuType": "T4",
      "provenance": []
    },
    "kernelspec": {
      "display_name": "Python 3",
      "name": "python3"
    },
    "language_info": {
      "name": "python"
    }
  },
  "nbformat": 4,
  "nbformat_minor": 0
}
