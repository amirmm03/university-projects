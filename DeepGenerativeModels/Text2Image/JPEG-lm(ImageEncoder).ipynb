{
  "nbformat": 4,
  "nbformat_minor": 0,
  "metadata": {
    "colab": {
      "provenance": [],
      "gpuType": "T4"
    },
    "kernelspec": {
      "name": "python3",
      "display_name": "Python 3"
    },
    "language_info": {
      "name": "python"
    },
    "accelerator": "GPU"
  },
  "cells": [
    {
      "cell_type": "code",
      "execution_count": 1,
      "metadata": {
        "colab": {
          "base_uri": "https://localhost:8080/"
        },
        "id": "wo1QFSW3xHGN",
        "outputId": "6489b092-3dca-49e2-a5c4-fd493ddb6930"
      },
      "outputs": [
        {
          "output_type": "stream",
          "name": "stdout",
          "text": [
            "Collecting flash-attn\n",
            "  Downloading flash_attn-2.7.4.post1.tar.gz (6.0 MB)\n",
            "\u001b[?25l     \u001b[90m━━━━━━━━━━━━━━━━━━━━━━━━━━━━━━━━━━━━━━━━\u001b[0m \u001b[32m0.0/6.0 MB\u001b[0m \u001b[31m?\u001b[0m eta \u001b[36m-:--:--\u001b[0m\r\u001b[2K     \u001b[91m━━━━\u001b[0m\u001b[90m╺\u001b[0m\u001b[90m━━━━━━━━━━━━━━━━━━━━━━━━━━━━━━━━━━━\u001b[0m \u001b[32m0.6/6.0 MB\u001b[0m \u001b[31m19.3 MB/s\u001b[0m eta \u001b[36m0:00:01\u001b[0m\r\u001b[2K     \u001b[91m━━━━━━━━━━━━━━━━━\u001b[0m\u001b[91m╸\u001b[0m\u001b[90m━━━━━━━━━━━━━━━━━━━━━━\u001b[0m \u001b[32m2.7/6.0 MB\u001b[0m \u001b[31m38.6 MB/s\u001b[0m eta \u001b[36m0:00:01\u001b[0m\r\u001b[2K     \u001b[91m━━━━━━━━━━━━━━━━━━━━━━━━━━━\u001b[0m\u001b[90m╺\u001b[0m\u001b[90m━━━━━━━━━━━━\u001b[0m \u001b[32m4.1/6.0 MB\u001b[0m \u001b[31m37.1 MB/s\u001b[0m eta \u001b[36m0:00:01\u001b[0m\r\u001b[2K     \u001b[91m━━━━━━━━━━━━━━━━━━━━━━━━━━━━━━━━━━━━━━━\u001b[0m\u001b[91m╸\u001b[0m \u001b[32m6.0/6.0 MB\u001b[0m \u001b[31m44.9 MB/s\u001b[0m eta \u001b[36m0:00:01\u001b[0m\r\u001b[2K     \u001b[91m━━━━━━━━━━━━━━━━━━━━━━━━━━━━━━━━━━━━━━━\u001b[0m\u001b[91m╸\u001b[0m \u001b[32m6.0/6.0 MB\u001b[0m \u001b[31m44.9 MB/s\u001b[0m eta \u001b[36m0:00:01\u001b[0m\r\u001b[2K     \u001b[90m━━━━━━━━━━━━━━━━━━━━━━━━━━━━━━━━━━━━━━━━\u001b[0m \u001b[32m6.0/6.0 MB\u001b[0m \u001b[31m30.8 MB/s\u001b[0m eta \u001b[36m0:00:00\u001b[0m\n",
            "\u001b[?25h  Preparing metadata (setup.py) ... \u001b[?25l\u001b[?25hdone\n",
            "Requirement already satisfied: torch in /usr/local/lib/python3.11/dist-packages (from flash-attn) (2.5.1+cu124)\n",
            "Requirement already satisfied: einops in /usr/local/lib/python3.11/dist-packages (from flash-attn) (0.8.0)\n",
            "Requirement already satisfied: filelock in /usr/local/lib/python3.11/dist-packages (from torch->flash-attn) (3.17.0)\n",
            "Requirement already satisfied: typing-extensions>=4.8.0 in /usr/local/lib/python3.11/dist-packages (from torch->flash-attn) (4.12.2)\n",
            "Requirement already satisfied: networkx in /usr/local/lib/python3.11/dist-packages (from torch->flash-attn) (3.4.2)\n",
            "Requirement already satisfied: jinja2 in /usr/local/lib/python3.11/dist-packages (from torch->flash-attn) (3.1.5)\n",
            "Requirement already satisfied: fsspec in /usr/local/lib/python3.11/dist-packages (from torch->flash-attn) (2024.10.0)\n",
            "Collecting nvidia-cuda-nvrtc-cu12==12.4.127 (from torch->flash-attn)\n",
            "  Downloading nvidia_cuda_nvrtc_cu12-12.4.127-py3-none-manylinux2014_x86_64.whl.metadata (1.5 kB)\n",
            "Collecting nvidia-cuda-runtime-cu12==12.4.127 (from torch->flash-attn)\n",
            "  Downloading nvidia_cuda_runtime_cu12-12.4.127-py3-none-manylinux2014_x86_64.whl.metadata (1.5 kB)\n",
            "Collecting nvidia-cuda-cupti-cu12==12.4.127 (from torch->flash-attn)\n",
            "  Downloading nvidia_cuda_cupti_cu12-12.4.127-py3-none-manylinux2014_x86_64.whl.metadata (1.6 kB)\n",
            "Collecting nvidia-cudnn-cu12==9.1.0.70 (from torch->flash-attn)\n",
            "  Downloading nvidia_cudnn_cu12-9.1.0.70-py3-none-manylinux2014_x86_64.whl.metadata (1.6 kB)\n",
            "Collecting nvidia-cublas-cu12==12.4.5.8 (from torch->flash-attn)\n",
            "  Downloading nvidia_cublas_cu12-12.4.5.8-py3-none-manylinux2014_x86_64.whl.metadata (1.5 kB)\n",
            "Collecting nvidia-cufft-cu12==11.2.1.3 (from torch->flash-attn)\n",
            "  Downloading nvidia_cufft_cu12-11.2.1.3-py3-none-manylinux2014_x86_64.whl.metadata (1.5 kB)\n",
            "Collecting nvidia-curand-cu12==10.3.5.147 (from torch->flash-attn)\n",
            "  Downloading nvidia_curand_cu12-10.3.5.147-py3-none-manylinux2014_x86_64.whl.metadata (1.5 kB)\n",
            "Collecting nvidia-cusolver-cu12==11.6.1.9 (from torch->flash-attn)\n",
            "  Downloading nvidia_cusolver_cu12-11.6.1.9-py3-none-manylinux2014_x86_64.whl.metadata (1.6 kB)\n",
            "Collecting nvidia-cusparse-cu12==12.3.1.170 (from torch->flash-attn)\n",
            "  Downloading nvidia_cusparse_cu12-12.3.1.170-py3-none-manylinux2014_x86_64.whl.metadata (1.6 kB)\n",
            "Requirement already satisfied: nvidia-nccl-cu12==2.21.5 in /usr/local/lib/python3.11/dist-packages (from torch->flash-attn) (2.21.5)\n",
            "Requirement already satisfied: nvidia-nvtx-cu12==12.4.127 in /usr/local/lib/python3.11/dist-packages (from torch->flash-attn) (12.4.127)\n",
            "Collecting nvidia-nvjitlink-cu12==12.4.127 (from torch->flash-attn)\n",
            "  Downloading nvidia_nvjitlink_cu12-12.4.127-py3-none-manylinux2014_x86_64.whl.metadata (1.5 kB)\n",
            "Requirement already satisfied: triton==3.1.0 in /usr/local/lib/python3.11/dist-packages (from torch->flash-attn) (3.1.0)\n",
            "Requirement already satisfied: sympy==1.13.1 in /usr/local/lib/python3.11/dist-packages (from torch->flash-attn) (1.13.1)\n",
            "Requirement already satisfied: mpmath<1.4,>=1.1.0 in /usr/local/lib/python3.11/dist-packages (from sympy==1.13.1->torch->flash-attn) (1.3.0)\n",
            "Requirement already satisfied: MarkupSafe>=2.0 in /usr/local/lib/python3.11/dist-packages (from jinja2->torch->flash-attn) (3.0.2)\n",
            "Downloading nvidia_cublas_cu12-12.4.5.8-py3-none-manylinux2014_x86_64.whl (363.4 MB)\n",
            "\u001b[2K   \u001b[90m━━━━━━━━━━━━━━━━━━━━━━━━━━━━━━━━━━━━━━━━\u001b[0m \u001b[32m363.4/363.4 MB\u001b[0m \u001b[31m3.5 MB/s\u001b[0m eta \u001b[36m0:00:00\u001b[0m\n",
            "\u001b[?25hDownloading nvidia_cuda_cupti_cu12-12.4.127-py3-none-manylinux2014_x86_64.whl (13.8 MB)\n",
            "\u001b[2K   \u001b[90m━━━━━━━━━━━━━━━━━━━━━━━━━━━━━━━━━━━━━━━━\u001b[0m \u001b[32m13.8/13.8 MB\u001b[0m \u001b[31m42.4 MB/s\u001b[0m eta \u001b[36m0:00:00\u001b[0m\n",
            "\u001b[?25hDownloading nvidia_cuda_nvrtc_cu12-12.4.127-py3-none-manylinux2014_x86_64.whl (24.6 MB)\n",
            "\u001b[2K   \u001b[90m━━━━━━━━━━━━━━━━━━━━━━━━━━━━━━━━━━━━━━━━\u001b[0m \u001b[32m24.6/24.6 MB\u001b[0m \u001b[31m25.2 MB/s\u001b[0m eta \u001b[36m0:00:00\u001b[0m\n",
            "\u001b[?25hDownloading nvidia_cuda_runtime_cu12-12.4.127-py3-none-manylinux2014_x86_64.whl (883 kB)\n",
            "\u001b[2K   \u001b[90m━━━━━━━━━━━━━━━━━━━━━━━━━━━━━━━━━━━━━━━━\u001b[0m \u001b[32m883.7/883.7 kB\u001b[0m \u001b[31m22.3 MB/s\u001b[0m eta \u001b[36m0:00:00\u001b[0m\n",
            "\u001b[?25hDownloading nvidia_cudnn_cu12-9.1.0.70-py3-none-manylinux2014_x86_64.whl (664.8 MB)\n",
            "\u001b[2K   \u001b[90m━━━━━━━━━━━━━━━━━━━━━━━━━━━━━━━━━━━━━━━━\u001b[0m \u001b[32m664.8/664.8 MB\u001b[0m \u001b[31m2.4 MB/s\u001b[0m eta \u001b[36m0:00:00\u001b[0m\n",
            "\u001b[?25hDownloading nvidia_cufft_cu12-11.2.1.3-py3-none-manylinux2014_x86_64.whl (211.5 MB)\n",
            "\u001b[2K   \u001b[90m━━━━━━━━━━━━━━━━━━━━━━━━━━━━━━━━━━━━━━━━\u001b[0m \u001b[32m211.5/211.5 MB\u001b[0m \u001b[31m4.8 MB/s\u001b[0m eta \u001b[36m0:00:00\u001b[0m\n",
            "\u001b[?25hDownloading nvidia_curand_cu12-10.3.5.147-py3-none-manylinux2014_x86_64.whl (56.3 MB)\n",
            "\u001b[2K   \u001b[90m━━━━━━━━━━━━━━━━━━━━━━━━━━━━━━━━━━━━━━━━\u001b[0m \u001b[32m56.3/56.3 MB\u001b[0m \u001b[31m9.0 MB/s\u001b[0m eta \u001b[36m0:00:00\u001b[0m\n",
            "\u001b[?25hDownloading nvidia_cusolver_cu12-11.6.1.9-py3-none-manylinux2014_x86_64.whl (127.9 MB)\n",
            "\u001b[2K   \u001b[90m━━━━━━━━━━━━━━━━━━━━━━━━━━━━━━━━━━━━━━━━\u001b[0m \u001b[32m127.9/127.9 MB\u001b[0m \u001b[31m6.6 MB/s\u001b[0m eta \u001b[36m0:00:00\u001b[0m\n",
            "\u001b[?25hDownloading nvidia_cusparse_cu12-12.3.1.170-py3-none-manylinux2014_x86_64.whl (207.5 MB)\n",
            "\u001b[2K   \u001b[90m━━━━━━━━━━━━━━━━━━━━━━━━━━━━━━━━━━━━━━━━\u001b[0m \u001b[32m207.5/207.5 MB\u001b[0m \u001b[31m5.0 MB/s\u001b[0m eta \u001b[36m0:00:00\u001b[0m\n",
            "\u001b[?25hDownloading nvidia_nvjitlink_cu12-12.4.127-py3-none-manylinux2014_x86_64.whl (21.1 MB)\n",
            "\u001b[2K   \u001b[90m━━━━━━━━━━━━━━━━━━━━━━━━━━━━━━━━━━━━━━━━\u001b[0m \u001b[32m21.1/21.1 MB\u001b[0m \u001b[31m51.3 MB/s\u001b[0m eta \u001b[36m0:00:00\u001b[0m\n",
            "\u001b[?25hBuilding wheels for collected packages: flash-attn\n",
            "  Building wheel for flash-attn (setup.py) ... \u001b[?25l\u001b[?25hdone\n",
            "  Created wheel for flash-attn: filename=flash_attn-2.7.4.post1-cp311-cp311-linux_x86_64.whl size=187815463 sha256=d944fc7d2f962bce83fc4708c2fc0c21eaf8255962a0b350ae919362a51b7ef2\n",
            "  Stored in directory: /root/.cache/pip/wheels/3d/88/d8/284b89f56af7d5bf366b10d6b8e251ac8a7c7bf3f04203fb4f\n",
            "Successfully built flash-attn\n",
            "Installing collected packages: nvidia-nvjitlink-cu12, nvidia-curand-cu12, nvidia-cufft-cu12, nvidia-cuda-runtime-cu12, nvidia-cuda-nvrtc-cu12, nvidia-cuda-cupti-cu12, nvidia-cublas-cu12, nvidia-cusparse-cu12, nvidia-cudnn-cu12, nvidia-cusolver-cu12, flash-attn\n",
            "  Attempting uninstall: nvidia-nvjitlink-cu12\n",
            "    Found existing installation: nvidia-nvjitlink-cu12 12.5.82\n",
            "    Uninstalling nvidia-nvjitlink-cu12-12.5.82:\n",
            "      Successfully uninstalled nvidia-nvjitlink-cu12-12.5.82\n",
            "  Attempting uninstall: nvidia-curand-cu12\n",
            "    Found existing installation: nvidia-curand-cu12 10.3.6.82\n",
            "    Uninstalling nvidia-curand-cu12-10.3.6.82:\n",
            "      Successfully uninstalled nvidia-curand-cu12-10.3.6.82\n",
            "  Attempting uninstall: nvidia-cufft-cu12\n",
            "    Found existing installation: nvidia-cufft-cu12 11.2.3.61\n",
            "    Uninstalling nvidia-cufft-cu12-11.2.3.61:\n",
            "      Successfully uninstalled nvidia-cufft-cu12-11.2.3.61\n",
            "  Attempting uninstall: nvidia-cuda-runtime-cu12\n",
            "    Found existing installation: nvidia-cuda-runtime-cu12 12.5.82\n",
            "    Uninstalling nvidia-cuda-runtime-cu12-12.5.82:\n",
            "      Successfully uninstalled nvidia-cuda-runtime-cu12-12.5.82\n",
            "  Attempting uninstall: nvidia-cuda-nvrtc-cu12\n",
            "    Found existing installation: nvidia-cuda-nvrtc-cu12 12.5.82\n",
            "    Uninstalling nvidia-cuda-nvrtc-cu12-12.5.82:\n",
            "      Successfully uninstalled nvidia-cuda-nvrtc-cu12-12.5.82\n",
            "  Attempting uninstall: nvidia-cuda-cupti-cu12\n",
            "    Found existing installation: nvidia-cuda-cupti-cu12 12.5.82\n",
            "    Uninstalling nvidia-cuda-cupti-cu12-12.5.82:\n",
            "      Successfully uninstalled nvidia-cuda-cupti-cu12-12.5.82\n",
            "  Attempting uninstall: nvidia-cublas-cu12\n",
            "    Found existing installation: nvidia-cublas-cu12 12.5.3.2\n",
            "    Uninstalling nvidia-cublas-cu12-12.5.3.2:\n",
            "      Successfully uninstalled nvidia-cublas-cu12-12.5.3.2\n",
            "  Attempting uninstall: nvidia-cusparse-cu12\n",
            "    Found existing installation: nvidia-cusparse-cu12 12.5.1.3\n",
            "    Uninstalling nvidia-cusparse-cu12-12.5.1.3:\n",
            "      Successfully uninstalled nvidia-cusparse-cu12-12.5.1.3\n",
            "  Attempting uninstall: nvidia-cudnn-cu12\n",
            "    Found existing installation: nvidia-cudnn-cu12 9.3.0.75\n",
            "    Uninstalling nvidia-cudnn-cu12-9.3.0.75:\n",
            "      Successfully uninstalled nvidia-cudnn-cu12-9.3.0.75\n",
            "  Attempting uninstall: nvidia-cusolver-cu12\n",
            "    Found existing installation: nvidia-cusolver-cu12 11.6.3.83\n",
            "    Uninstalling nvidia-cusolver-cu12-11.6.3.83:\n",
            "      Successfully uninstalled nvidia-cusolver-cu12-11.6.3.83\n",
            "Successfully installed flash-attn-2.7.4.post1 nvidia-cublas-cu12-12.4.5.8 nvidia-cuda-cupti-cu12-12.4.127 nvidia-cuda-nvrtc-cu12-12.4.127 nvidia-cuda-runtime-cu12-12.4.127 nvidia-cudnn-cu12-9.1.0.70 nvidia-cufft-cu12-11.2.1.3 nvidia-curand-cu12-10.3.5.147 nvidia-cusolver-cu12-11.6.1.9 nvidia-cusparse-cu12-12.3.1.170 nvidia-nvjitlink-cu12-12.4.127\n"
          ]
        }
      ],
      "source": [
        "!pip install flash-attn --no-build-isolation"
      ]
    },
    {
      "cell_type": "code",
      "source": [
        "import torch # version 2.1.2\n",
        "from torchvision import transforms # version 0.16.2\n",
        "from PIL import Image\n",
        "import io\n",
        "import os\n",
        "import glob\n",
        "import argparse\n",
        "import re\n",
        "from transformers import AutoModelForCausalLM, AutoConfig, AutoTokenizer, set_seed # version 4.38.2\n",
        "import requests\n",
        "import json\n",
        "from packaging import version\n",
        "import PIL # version 10.2.0\n",
        "from tqdm import tqdm\n",
        "\n",
        "QUALITY = 25\n",
        "TOTAL_PATCH_ROWS = 32 # how many [FFD0-FFD7] rows are there? for 256x256 resolution, 4:2:0 color -- (256 image side length / 16 patch side length / 8 restart markers) * (256 image side length / 16 patch side length) = 32\n",
        "MAX_MODEL_SEQ_LEN = 12288\n",
        "CACHE_TABLES_FN = \"cache_tables.jpg\"\n",
        "UNICODE_OFFSET = 10240\n",
        "\n",
        "\n",
        "def convert_img_to_bytes(img, quality=25, save_tables_file=False):\n",
        "    def ConvertToJpeg(im, quality):\n",
        "        with io.BytesIO() as f: # get jpeg bytes without fixed file headers -- streamtype=2\n",
        "            im.save(f, format='JPEG', quality=quality, subsampling=\"4:2:0\", streamtype=2, restart_marker_blocks=1)\n",
        "            return f.getvalue()\n",
        "    hexdata = ConvertToJpeg(img, quality).hex()\n",
        "    int_list = [int(_e) for _e in bytearray.fromhex(hexdata)]\n",
        "    str_list = ''.join([chr(_e + UNICODE_OFFSET) for _e in int_list]) # use braille characters to represent bytes -- UNICODE_OFFSET=10240\n",
        "    if save_tables_file: # save jpeg headers (fixed tables for quantization and entropy coding) -- streamtype=1\n",
        "        img.save(CACHE_TABLES_FN, quality=quality, subsampling=\"4:2:0\", streamtype=1, restart_marker_blocks=1)\n",
        "    return str_list\n",
        "\n",
        "\n",
        "def save_byte_image(byte_list, gen_img_fn):\n",
        "    with open(CACHE_TABLES_FN, 'rb') as f:\n",
        "        hexdata = f.read().hex()\n",
        "        table_int_list = [int(_e) for _e in bytearray.fromhex(hexdata)]\n",
        "        table_int_list = table_int_list[2:-2] # removing first 2 and last 2 bytes (FF D8 and FF D9)\n",
        "    int_list = [ord(_e) - UNICODE_OFFSET for _e in byte_list]\n",
        "    int_list = int_list[:2] + table_int_list + int_list[2:]\n",
        "    new_hexdata = bytes(int_list)\n",
        "    with open(gen_img_fn + '.jpg', 'wb') as f:\n",
        "        f.write(new_hexdata)\n",
        "\n",
        "\n",
        "def build_prompt(image_str, tokenizer, prefix_ratio=0.0):\n",
        "    def trim_after_n_occurrences(input_string, substring, n):\n",
        "        pattern = re.compile('(' + re.escape(substring) + '(?:.*?' + re.escape(substring) + '){' + str(n-1) + '})')\n",
        "        match = pattern.search(input_string)\n",
        "        return input_string[:match.end()] if match else input_string\n",
        "\n",
        "    if prefix_ratio == 0.0:\n",
        "        input_ids = [tokenizer.bos_token_id]\n",
        "    elif prefix_ratio > 0:\n",
        "        image_str = trim_after_n_occurrences(image_str, '\\u28ff\\u28d7', int(TOTAL_PATCH_ROWS * prefix_ratio)) # UNICODE_OFFSET = 10240\n",
        "        input_ids = [tokenizer.bos_token_id] + [_e  for _e in tokenizer(image_str, add_special_tokens=False)['input_ids']]\n",
        "    else:\n",
        "        raise ValueError(f\"invalid prefix ratio\")\n",
        "    return input_ids\n",
        "\n",
        "\n",
        "def clean_image_string(output_image_str): # UNICODE_OFFSET = 10240\n",
        "    matched_output_image_str = re.match('\\u28ff\\u28d8.*?\\u28ff\\u28d9', output_image_str)\n",
        "    if matched_output_image_str:\n",
        "        output_image_str = matched_output_image_str.group()\n",
        "    else:\n",
        "        if output_image_str[-2:] != '\\u28ff\\u28d9':\n",
        "            output_image_str = output_image_str + '\\u28ff\\u28d9'\n",
        "        if output_image_str[:2] != '\\u28ff\\u28d8':\n",
        "            output_image_str = '\\u28ff\\u28d8' + output_image_str\n",
        "    return output_image_str"
      ],
      "metadata": {
        "id": "sjsdTzD8xTI4"
      },
      "execution_count": 2,
      "outputs": []
    },
    {
      "cell_type": "code",
      "source": [
        "\n",
        "output_dir = \"./\"\n",
        "os.makedirs(output_dir, exist_ok=True)\n",
        "\n",
        "\n",
        "device = 'cuda' if torch.cuda.is_available() else 'cpu'\n",
        "print(\"device: \", device)\n",
        "\n",
        "jpeg_model_name = \"uwnlp/jpeg-lm-reimplementation\"\n",
        "set_seed(42)\n",
        "\n",
        "tokenizer = AutoTokenizer.from_pretrained(jpeg_model_name, use_fast=False, add_eos_token=True)\n",
        "tokenizer.pad_token = tokenizer.eos_token\n",
        "\n",
        "max_memory_mapping = {0: \"10GB\", \"cpu\": \"100GB\"}\n",
        "\n",
        "config = AutoConfig.from_pretrained(jpeg_model_name)\n",
        "config.use_cache = True # use_cache=False was used in training\n",
        "model = AutoModelForCausalLM.from_pretrained(\n",
        "    jpeg_model_name,\n",
        "    config=config,\n",
        "    ignore_mismatched_sizes=False,\n",
        "    torch_dtype=torch.float16,\n",
        "    attn_implementation=\"flash_attention_2\",\n",
        "    device_map='auto',\n",
        "    max_memory=max_memory_mapping\n",
        ")\n",
        "print(\"model bala oomad\")\n",
        "model.eval()"
      ],
      "metadata": {
        "colab": {
          "base_uri": "https://localhost:8080/",
          "height": 1000
        },
        "id": "uz2XIWdzxi5G",
        "outputId": "ced55bb2-abdd-4965-b8ba-621787e5965d"
      },
      "execution_count": 96,
      "outputs": [
        {
          "output_type": "stream",
          "name": "stdout",
          "text": [
            "device:  cuda\n"
          ]
        },
        {
          "output_type": "stream",
          "name": "stderr",
          "text": [
            "Process Process-auto_conversion:\n",
            "Traceback (most recent call last):\n",
            "  File \"/usr/lib/python3.11/multiprocessing/process.py\", line 314, in _bootstrap\n",
            "    self.run()\n",
            "  File \"/usr/lib/python3.11/multiprocessing/process.py\", line 108, in run\n",
            "    self._target(*self._args, **self._kwargs)\n",
            "  File \"/usr/local/lib/python3.11/dist-packages/transformers/safetensors_conversion.py\", line 84, in auto_conversion\n",
            "    sha = get_conversion_pr_reference(api, pretrained_model_name_or_path, **cached_file_kwargs)\n",
            "          ^^^^^^^^^^^^^^^^^^^^^^^^^^^^^^^^^^^^^^^^^^^^^^^^^^^^^^^^^^^^^^^^^^^^^^^^^^^^^^^^^^^^^\n",
            "  File \"/usr/local/lib/python3.11/dist-packages/transformers/safetensors_conversion.py\", line 71, in get_conversion_pr_reference\n",
            "    spawn_conversion(token, private, model_id)\n",
            "  File \"/usr/local/lib/python3.11/dist-packages/transformers/safetensors_conversion.py\", line 53, in spawn_conversion\n",
            "    start(sse_connection)\n",
            "  File \"/usr/local/lib/python3.11/dist-packages/transformers/safetensors_conversion.py\", line 30, in start\n",
            "    for line in _sse_connection.iter_lines():\n",
            "  File \"/usr/local/lib/python3.11/dist-packages/requests/models.py\", line 869, in iter_lines\n",
            "    for chunk in self.iter_content(\n",
            "  File \"/usr/local/lib/python3.11/dist-packages/requests/models.py\", line 820, in generate\n",
            "    yield from self.raw.stream(chunk_size, decode_content=True)\n",
            "  File \"/usr/local/lib/python3.11/dist-packages/urllib3/response.py\", line 1063, in stream\n",
            "    yield from self.read_chunked(amt, decode_content=decode_content)\n",
            "  File \"/usr/local/lib/python3.11/dist-packages/urllib3/response.py\", line 1219, in read_chunked\n",
            "    self._update_chunk_length()\n",
            "  File \"/usr/lib/python3.11/ssl.py\", line 1314, in recv_into\n",
            "    return self.read(nbytes, buffer)\n",
            "           ^^^^^^^^^^^^^^^^^^^^^^^^^\n",
            "  File \"/usr/local/lib/python3.11/dist-packages/urllib3/response.py\", line 1138, in _update_chunk_length\n",
            "    line = self._fp.fp.readline()  # type: ignore[union-attr]\n",
            "           ^^^^^^^^^^^^^^^^^^^^^^\n",
            "  File \"/usr/lib/python3.11/socket.py\", line 718, in readinto\n",
            "    return self._sock.recv_into(b)\n",
            "           ^^^^^^^^^^^^^^^^^^^^^^^\n",
            "  File \"/usr/lib/python3.11/ssl.py\", line 1166, in read\n",
            "    return self._sslobj.read(len, buffer)\n",
            "           ^^^^^^^^^^^^^^^^^^^^^^^^^^^^^^\n",
            "KeyboardInterrupt\n"
          ]
        },
        {
          "output_type": "error",
          "ename": "KeyboardInterrupt",
          "evalue": "",
          "traceback": [
            "\u001b[0;31m---------------------------------------------------------------------------\u001b[0m",
            "\u001b[0;31mKeyboardInterrupt\u001b[0m                         Traceback (most recent call last)",
            "\u001b[0;32m<ipython-input-96-3225aca9c255>\u001b[0m in \u001b[0;36m<cell line: 0>\u001b[0;34m()\u001b[0m\n\u001b[1;32m     16\u001b[0m \u001b[0mconfig\u001b[0m \u001b[0;34m=\u001b[0m \u001b[0mAutoConfig\u001b[0m\u001b[0;34m.\u001b[0m\u001b[0mfrom_pretrained\u001b[0m\u001b[0;34m(\u001b[0m\u001b[0mjpeg_model_name\u001b[0m\u001b[0;34m)\u001b[0m\u001b[0;34m\u001b[0m\u001b[0;34m\u001b[0m\u001b[0m\n\u001b[1;32m     17\u001b[0m \u001b[0mconfig\u001b[0m\u001b[0;34m.\u001b[0m\u001b[0muse_cache\u001b[0m \u001b[0;34m=\u001b[0m \u001b[0;32mTrue\u001b[0m \u001b[0;31m# use_cache=False was used in training\u001b[0m\u001b[0;34m\u001b[0m\u001b[0;34m\u001b[0m\u001b[0m\n\u001b[0;32m---> 18\u001b[0;31m model = AutoModelForCausalLM.from_pretrained(\n\u001b[0m\u001b[1;32m     19\u001b[0m     \u001b[0mjpeg_model_name\u001b[0m\u001b[0;34m,\u001b[0m\u001b[0;34m\u001b[0m\u001b[0;34m\u001b[0m\u001b[0m\n\u001b[1;32m     20\u001b[0m     \u001b[0mconfig\u001b[0m\u001b[0;34m=\u001b[0m\u001b[0mconfig\u001b[0m\u001b[0;34m,\u001b[0m\u001b[0;34m\u001b[0m\u001b[0;34m\u001b[0m\u001b[0m\n",
            "\u001b[0;32m/usr/local/lib/python3.11/dist-packages/transformers/models/auto/auto_factory.py\u001b[0m in \u001b[0;36mfrom_pretrained\u001b[0;34m(cls, pretrained_model_name_or_path, *model_args, **kwargs)\u001b[0m\n\u001b[1;32m    562\u001b[0m         \u001b[0;32melif\u001b[0m \u001b[0mtype\u001b[0m\u001b[0;34m(\u001b[0m\u001b[0mconfig\u001b[0m\u001b[0;34m)\u001b[0m \u001b[0;32min\u001b[0m \u001b[0mcls\u001b[0m\u001b[0;34m.\u001b[0m\u001b[0m_model_mapping\u001b[0m\u001b[0;34m.\u001b[0m\u001b[0mkeys\u001b[0m\u001b[0;34m(\u001b[0m\u001b[0;34m)\u001b[0m\u001b[0;34m:\u001b[0m\u001b[0;34m\u001b[0m\u001b[0;34m\u001b[0m\u001b[0m\n\u001b[1;32m    563\u001b[0m             \u001b[0mmodel_class\u001b[0m \u001b[0;34m=\u001b[0m \u001b[0m_get_model_class\u001b[0m\u001b[0;34m(\u001b[0m\u001b[0mconfig\u001b[0m\u001b[0;34m,\u001b[0m \u001b[0mcls\u001b[0m\u001b[0;34m.\u001b[0m\u001b[0m_model_mapping\u001b[0m\u001b[0;34m)\u001b[0m\u001b[0;34m\u001b[0m\u001b[0;34m\u001b[0m\u001b[0m\n\u001b[0;32m--> 564\u001b[0;31m             return model_class.from_pretrained(\n\u001b[0m\u001b[1;32m    565\u001b[0m                 \u001b[0mpretrained_model_name_or_path\u001b[0m\u001b[0;34m,\u001b[0m \u001b[0;34m*\u001b[0m\u001b[0mmodel_args\u001b[0m\u001b[0;34m,\u001b[0m \u001b[0mconfig\u001b[0m\u001b[0;34m=\u001b[0m\u001b[0mconfig\u001b[0m\u001b[0;34m,\u001b[0m \u001b[0;34m**\u001b[0m\u001b[0mhub_kwargs\u001b[0m\u001b[0;34m,\u001b[0m \u001b[0;34m**\u001b[0m\u001b[0mkwargs\u001b[0m\u001b[0;34m\u001b[0m\u001b[0;34m\u001b[0m\u001b[0m\n\u001b[1;32m    566\u001b[0m             )\n",
            "\u001b[0;32m/usr/local/lib/python3.11/dist-packages/transformers/modeling_utils.py\u001b[0m in \u001b[0;36mfrom_pretrained\u001b[0;34m(cls, pretrained_model_name_or_path, config, cache_dir, ignore_mismatched_sizes, force_download, local_files_only, token, revision, use_safetensors, weights_only, *model_args, **kwargs)\u001b[0m\n\u001b[1;32m   4262\u001b[0m                     \u001b[0moffload_index\u001b[0m\u001b[0;34m,\u001b[0m\u001b[0;34m\u001b[0m\u001b[0;34m\u001b[0m\u001b[0m\n\u001b[1;32m   4263\u001b[0m                     \u001b[0merror_msgs\u001b[0m\u001b[0;34m,\u001b[0m\u001b[0;34m\u001b[0m\u001b[0;34m\u001b[0m\u001b[0m\n\u001b[0;32m-> 4264\u001b[0;31m                 \u001b[0;34m)\u001b[0m \u001b[0;34m=\u001b[0m \u001b[0mcls\u001b[0m\u001b[0;34m.\u001b[0m\u001b[0m_load_pretrained_model\u001b[0m\u001b[0;34m(\u001b[0m\u001b[0;34m\u001b[0m\u001b[0;34m\u001b[0m\u001b[0m\n\u001b[0m\u001b[1;32m   4265\u001b[0m                     \u001b[0mmodel\u001b[0m\u001b[0;34m,\u001b[0m\u001b[0;34m\u001b[0m\u001b[0;34m\u001b[0m\u001b[0m\n\u001b[1;32m   4266\u001b[0m                     \u001b[0mstate_dict\u001b[0m\u001b[0;34m,\u001b[0m\u001b[0;34m\u001b[0m\u001b[0;34m\u001b[0m\u001b[0m\n",
            "\u001b[0;32m/usr/local/lib/python3.11/dist-packages/transformers/modeling_utils.py\u001b[0m in \u001b[0;36m_load_pretrained_model\u001b[0;34m(cls, model, state_dict, loaded_keys, resolved_archive_file, pretrained_model_name_or_path, ignore_mismatched_sizes, sharded_metadata, _fast_init, low_cpu_mem_usage, device_map, offload_folder, offload_state_dict, dtype, hf_quantizer, keep_in_fp32_modules, gguf_path, weights_only)\u001b[0m\n\u001b[1;32m   4775\u001b[0m                                 )\n\u001b[1;32m   4776\u001b[0m                     \u001b[0;32melse\u001b[0m\u001b[0;34m:\u001b[0m\u001b[0;34m\u001b[0m\u001b[0;34m\u001b[0m\u001b[0m\n\u001b[0;32m-> 4777\u001b[0;31m                         new_error_msgs, offload_index, state_dict_index = _load_state_dict_into_meta_model(\n\u001b[0m\u001b[1;32m   4778\u001b[0m                             \u001b[0mmodel_to_load\u001b[0m\u001b[0;34m,\u001b[0m\u001b[0;34m\u001b[0m\u001b[0;34m\u001b[0m\u001b[0m\n\u001b[1;32m   4779\u001b[0m                             \u001b[0mstate_dict\u001b[0m\u001b[0;34m,\u001b[0m\u001b[0;34m\u001b[0m\u001b[0;34m\u001b[0m\u001b[0m\n",
            "\u001b[0;32m/usr/local/lib/python3.11/dist-packages/transformers/modeling_utils.py\u001b[0m in \u001b[0;36m_load_state_dict_into_meta_model\u001b[0;34m(model, state_dict, start_prefix, expected_keys, device_map, offload_folder, offload_index, state_dict_folder, state_dict_index, dtype, hf_quantizer, is_safetensors, keep_in_fp32_modules, unexpected_keys, pretrained_model_name_or_path)\u001b[0m\n\u001b[1;32m    884\u001b[0m                     \u001b[0mset_module_kwargs\u001b[0m\u001b[0;34m[\u001b[0m\u001b[0;34m\"dtype\"\u001b[0m\u001b[0;34m]\u001b[0m \u001b[0;34m=\u001b[0m \u001b[0mtorch\u001b[0m\u001b[0;34m.\u001b[0m\u001b[0mfloat32\u001b[0m\u001b[0;34m\u001b[0m\u001b[0;34m\u001b[0m\u001b[0m\n\u001b[1;32m    885\u001b[0m             \u001b[0;32melse\u001b[0m\u001b[0;34m:\u001b[0m\u001b[0;34m\u001b[0m\u001b[0;34m\u001b[0m\u001b[0m\n\u001b[0;32m--> 886\u001b[0;31m                 \u001b[0mparam\u001b[0m \u001b[0;34m=\u001b[0m \u001b[0mparam\u001b[0m\u001b[0;34m.\u001b[0m\u001b[0mto\u001b[0m\u001b[0;34m(\u001b[0m\u001b[0mdtype\u001b[0m\u001b[0;34m)\u001b[0m\u001b[0;34m\u001b[0m\u001b[0;34m\u001b[0m\u001b[0m\n\u001b[0m\u001b[1;32m    887\u001b[0m \u001b[0;34m\u001b[0m\u001b[0m\n\u001b[1;32m    888\u001b[0m         \u001b[0;31m# For compatibility with PyTorch load_state_dict which converts state dict dtype to existing dtype in model, and which\u001b[0m\u001b[0;34m\u001b[0m\u001b[0;34m\u001b[0m\u001b[0m\n",
            "\u001b[0;31mKeyboardInterrupt\u001b[0m: "
          ]
        }
      ]
    },
    {
      "cell_type": "code",
      "source": [
        "image_path = sorted(glob.glob('*.jpg'))\n",
        "images = []\n",
        "\n",
        "transform = transforms.Compose([\n",
        "        transforms.Resize((256, 256)),  # Resize to 256x256\n",
        "        # transforms.Grayscale(num_output_channels=3),  # Convert grayscale to RGB\n",
        "        # transforms.ToTensor()\n",
        "])\n",
        "\n",
        "for _image_path in image_path:\n",
        "    image = Image.open(_image_path).convert('RGB')\n",
        "    obj = {\n",
        "        'image':image,\n",
        "        'caption': _image_path.split('.')[0],\n",
        "    }\n",
        "    images.append(obj) # transform here???\n",
        "\n",
        "print(images[2]['caption'])\n",
        "transform(images[2]['image'])"
      ],
      "metadata": {
        "colab": {
          "base_uri": "https://localhost:8080/",
          "height": 290
        },
        "id": "Rm5VdmMPxp92",
        "outputId": "013307f8-bb77-494c-fe95-34e64e4dfb80"
      },
      "execution_count": 138,
      "outputs": [
        {
          "output_type": "stream",
          "name": "stdout",
          "text": [
            "green\n"
          ]
        },
        {
          "output_type": "execute_result",
          "data": {
            "text/plain": [
              "<PIL.Image.Image image mode=RGB size=256x256>"
            ],
            "image/png": "[encoded data removed]",
            "image/jpeg": "[encoded data removed]"
          },
          "metadata": {},
          "execution_count": 138
        }
      ]
    },
    {
      "cell_type": "code",
      "source": [
        "PREFIX_LEN = 52\n",
        "\n",
        "w = images[2]['image']\n",
        "image_strw = convert_img_to_bytes(w, quality=QUALITY, save_tables_file=True)\n",
        "partial_input_idsw = build_prompt(image_strw, tokenizer, prefix_ratio=1)\n",
        "partial_input_stringw = tokenizer.decode(partial_input_idsw, skip_special_tokens=True).strip()\n",
        "partial_input_ids_tensorw = torch.tensor(partial_input_idsw, dtype=torch.long).to(device)\n",
        "\n",
        "prefix = partial_input_idsw[0:PREFIX_LEN]\n",
        "len(prefix)"
      ],
      "metadata": {
        "colab": {
          "base_uri": "https://localhost:8080/"
        },
        "id": "M4yUSXJxxtQf",
        "outputId": "8033ff29-66aa-4f52-f446-921dd8f274b4"
      },
      "execution_count": 139,
      "outputs": [
        {
          "output_type": "execute_result",
          "data": {
            "text/plain": [
              "52"
            ]
          },
          "metadata": {},
          "execution_count": 139
        }
      ]
    },
    {
      "cell_type": "code",
      "source": [
        "type(partial_input_stringw)"
      ],
      "metadata": {
        "colab": {
          "base_uri": "https://localhost:8080/"
        },
        "id": "I4pBGHfr41mx",
        "outputId": "e25df084-989b-47aa-a9f3-41bda47d768b"
      },
      "execution_count": 140,
      "outputs": [
        {
          "output_type": "execute_result",
          "data": {
            "text/plain": [
              "str"
            ]
          },
          "metadata": {},
          "execution_count": 140
        }
      ]
    },
    {
      "cell_type": "code",
      "source": [
        "image_str_list = [convert_img_to_bytes(obj['image'], quality=QUALITY, save_tables_file=False) for obj in images]\n",
        "\n",
        "partial_input_ids_list = [build_prompt(obj, tokenizer, prefix_ratio=1) for obj in image_str_list]\n",
        "\n",
        "partial_input_string_list = [tokenizer.decode(obj, skip_special_tokens=True).strip()  for obj in partial_input_ids_list]\n",
        "\n",
        "# print(partial_input_string_list[0])\n",
        "partial_input_ids_tensor_list  = []\n",
        "\n",
        "for obj in partial_input_ids_list:\n",
        "\n",
        "  partial_input_ids_tensor_list.append(torch.tensor(obj, dtype=torch.long).to(device))\n",
        "\n"
      ],
      "metadata": {
        "id": "aZdpfjkH2mLR"
      },
      "execution_count": 141,
      "outputs": []
    },
    {
      "cell_type": "code",
      "source": [
        "\n",
        "\n",
        "embeddings_list = []\n",
        "for obj in partial_input_ids_tensor_list:\n",
        "\n",
        "  embedding = None\n",
        "  with torch.no_grad():\n",
        "      embeddings = model.model.embed_tokens(obj)\n",
        "      embedding = torch.sum(embeddings, dim=0)\n",
        "  embeddings_list.append(embedding)\n",
        "\n"
      ],
      "metadata": {
        "id": "fuy-o3jq2TfF"
      },
      "execution_count": 142,
      "outputs": []
    },
    {
      "cell_type": "code",
      "source": [
        "\n",
        "for i,img in enumerate(images):\n",
        "  text = img['caption']\n",
        "  torch.save(embeddings_list[i], f\"{text}.pt\")"
      ],
      "metadata": {
        "id": "WS_SUE4H5vPH"
      },
      "execution_count": 143,
      "outputs": []
    },
    {
      "cell_type": "code",
      "source": [
        "!zip -r files.zip *"
      ],
      "metadata": {
        "colab": {
          "base_uri": "https://localhost:8080/"
        },
        "id": "iNem0uLH6gE7",
        "outputId": "afb2f532-5122-4484-8854-93426d704abb"
      },
      "execution_count": 144,
      "outputs": [
        {
          "output_type": "stream",
          "name": "stdout",
          "text": [
            "  adding: blue.jpg (deflated 33%)\n",
            "  adding: blue.pt (deflated 12%)\n",
            "  adding: brown.jpg (deflated 33%)\n",
            "  adding: brown.pt (deflated 12%)\n",
            "  adding: cache_tables.jpg (deflated 32%)\n",
            "  adding: green.jpg (deflated 33%)\n",
            "  adding: green.pt (deflated 12%)\n",
            "  adding: grey.jpg (deflated 33%)\n",
            "  adding: grey.pt (deflated 12%)\n",
            "  adding: lavender.jpg (deflated 33%)\n",
            "  adding: lavender.pt (deflated 13%)\n",
            "  adding: light grey.jpg (deflated 33%)\n",
            "  adding: light grey.pt (deflated 13%)\n",
            "  adding: lime.jpg (deflated 33%)\n",
            "  adding: lime.pt (deflated 12%)\n",
            "  adding: orange.jpg (deflated 33%)\n",
            "  adding: orange.pt (deflated 12%)\n",
            "  adding: pink.jpg (deflated 33%)\n",
            "  adding: pink.pt (deflated 12%)\n",
            "  adding: red.jpg (deflated 33%)\n",
            "  adding: red.pt (deflated 12%)\n"
          ]
        }
      ]
    },
    {
      "cell_type": "code",
      "source": [
        "def find_next_two(az, end, before, index):\n",
        "\n",
        "    min_value = 1000000000\n",
        "    best = [0, 0]\n",
        "    for i in tqdm(range(0, 320)):\n",
        "        for j in range(0, 320):\n",
        "            # if i == 0 and j == 0:\n",
        "            #     print('last is',partial_input_idsg[az +2:end])\n",
        "            input_model = prefix + before + [i] + [j]\n",
        "            input_model += partial_input_ids_list[index][az + 2:end]\n",
        "            # input_model += [0] * (end - az -2)\n",
        "            input_tensor = torch.tensor(input_model).to(dtype=torch.long, device=device)\n",
        "            input_embeddings = model.model.embed_tokens(input_tensor)\n",
        "\n",
        "            input_embedding = torch.sum(input_embeddings, dim=0)\n",
        "            current_loss = torch.norm(embeddings_list[index] - input_embedding).item()\n",
        "            if current_loss <= min_value:\n",
        "                best = [i] + [j]\n",
        "                min_value = current_loss\n",
        "    if best[0] == 218:\n",
        "      best[0], best[1] = best[1], best[0]\n",
        "\n",
        "    return best"
      ],
      "metadata": {
        "id": "UPCvafZU5j_u"
      },
      "execution_count": 145,
      "outputs": []
    },
    {
      "cell_type": "code",
      "source": [
        "generated_sequences = []\n",
        "for index, image_obj in enumerate(images):\n",
        "    # if image_obj['caption'] not in ['pink','purple','light grey']:\n",
        "    #   continue\n",
        "    print(index)\n",
        "    ans = []\n",
        "\n",
        "    l = len(partial_input_ids_tensor_list[index])\n",
        "    for i in range((l-PREFIX_LEN)//2):\n",
        "        ans += find_next_two(52 + i*2, l, ans, index)\n",
        "\n",
        "    ans = prefix + ans\n",
        "    if l %2 == 1:\n",
        "        ans.append(218)\n",
        "    generated_sequences.append(ans)\n"
      ],
      "metadata": {
        "colab": {
          "base_uri": "https://localhost:8080/"
        },
        "id": "TROYRq4M74Rd",
        "outputId": "44ffeecb-d10e-4344-a847-ef7fe2b92e82"
      },
      "execution_count": 146,
      "outputs": [
        {
          "output_type": "stream",
          "name": "stdout",
          "text": [
            "0\n"
          ]
        },
        {
          "output_type": "stream",
          "name": "stderr",
          "text": [
            "100%|██████████| 320/320 [00:23<00:00, 13.36it/s]\n",
            "100%|██████████| 320/320 [00:23<00:00, 13.42it/s]\n",
            "100%|██████████| 320/320 [00:23<00:00, 13.37it/s]\n"
          ]
        },
        {
          "output_type": "stream",
          "name": "stdout",
          "text": [
            "1\n"
          ]
        },
        {
          "output_type": "stream",
          "name": "stderr",
          "text": [
            "100%|██████████| 320/320 [00:24<00:00, 13.32it/s]\n",
            "100%|██████████| 320/320 [00:23<00:00, 13.38it/s]\n",
            "100%|██████████| 320/320 [00:23<00:00, 13.78it/s]\n",
            "100%|██████████| 320/320 [00:23<00:00, 13.61it/s]\n"
          ]
        },
        {
          "output_type": "stream",
          "name": "stdout",
          "text": [
            "2\n"
          ]
        },
        {
          "output_type": "stream",
          "name": "stderr",
          "text": [
            "100%|██████████| 320/320 [00:24<00:00, 13.32it/s]\n",
            "100%|██████████| 320/320 [00:24<00:00, 12.96it/s]\n",
            "100%|██████████| 320/320 [00:24<00:00, 13.28it/s]\n"
          ]
        },
        {
          "output_type": "stream",
          "name": "stdout",
          "text": [
            "3\n"
          ]
        },
        {
          "output_type": "stream",
          "name": "stderr",
          "text": [
            "100%|██████████| 320/320 [00:23<00:00, 13.40it/s]\n"
          ]
        },
        {
          "output_type": "stream",
          "name": "stdout",
          "text": [
            "4\n"
          ]
        },
        {
          "output_type": "stream",
          "name": "stderr",
          "text": [
            "100%|██████████| 320/320 [00:24<00:00, 13.22it/s]\n",
            "100%|██████████| 320/320 [00:23<00:00, 13.48it/s]\n",
            "100%|██████████| 320/320 [00:23<00:00, 13.69it/s]\n"
          ]
        },
        {
          "output_type": "stream",
          "name": "stdout",
          "text": [
            "5\n"
          ]
        },
        {
          "output_type": "stream",
          "name": "stderr",
          "text": [
            "100%|██████████| 320/320 [00:24<00:00, 13.24it/s]\n",
            "100%|██████████| 320/320 [00:23<00:00, 13.38it/s]\n"
          ]
        },
        {
          "output_type": "stream",
          "name": "stdout",
          "text": [
            "6\n"
          ]
        },
        {
          "output_type": "stream",
          "name": "stderr",
          "text": [
            "100%|██████████| 320/320 [00:24<00:00, 13.31it/s]\n",
            "100%|██████████| 320/320 [00:24<00:00, 13.29it/s]\n",
            "100%|██████████| 320/320 [00:24<00:00, 13.26it/s]\n"
          ]
        },
        {
          "output_type": "stream",
          "name": "stdout",
          "text": [
            "7\n"
          ]
        },
        {
          "output_type": "stream",
          "name": "stderr",
          "text": [
            "100%|██████████| 320/320 [00:23<00:00, 13.42it/s]\n",
            "100%|██████████| 320/320 [00:23<00:00, 13.81it/s]\n",
            "100%|██████████| 320/320 [00:23<00:00, 13.58it/s]\n",
            "100%|██████████| 320/320 [00:23<00:00, 13.37it/s]\n"
          ]
        },
        {
          "output_type": "stream",
          "name": "stdout",
          "text": [
            "8\n"
          ]
        },
        {
          "output_type": "stream",
          "name": "stderr",
          "text": [
            "100%|██████████| 320/320 [00:23<00:00, 13.43it/s]\n",
            "100%|██████████| 320/320 [00:24<00:00, 13.33it/s]\n",
            "100%|██████████| 320/320 [00:23<00:00, 13.38it/s]\n"
          ]
        },
        {
          "output_type": "stream",
          "name": "stdout",
          "text": [
            "9\n"
          ]
        },
        {
          "output_type": "stream",
          "name": "stderr",
          "text": [
            "100%|██████████| 320/320 [00:24<00:00, 13.29it/s]\n",
            "100%|██████████| 320/320 [00:23<00:00, 13.66it/s]\n",
            "100%|██████████| 320/320 [00:23<00:00, 13.54it/s]\n",
            "100%|██████████| 320/320 [00:23<00:00, 13.37it/s]\n"
          ]
        }
      ]
    },
    {
      "cell_type": "code",
      "source": [
        "for i in range(len(generated_sequences)):\n",
        "    print('real', partial_input_ids_tensor_list[i][PREFIX_LEN:], 'generated',generated_sequences[i][PREFIX_LEN:])\n",
        "# generated_sequences"
      ],
      "metadata": {
        "colab": {
          "base_uri": "https://localhost:8080/"
        },
        "id": "7iHIoOwC89lG",
        "outputId": "7d64cdcc-3d69-4c13-da8b-23ab74cd295c"
      },
      "execution_count": 148,
      "outputs": [
        {
          "output_type": "stream",
          "name": "stdout",
          "text": [
            "real tensor([ 94,  37, 240,  99, 229,   9, 218], device='cuda:0') generated [94, 37, 240, 99, 229, 9, 218]\n",
            "real tensor([264,  83, 117, 236, 201,  86,  64, 218], device='cuda:0') generated [264, 83, 236, 117, 201, 86, 64, 218]\n",
            "real tensor([ 84,  37, 240, 138, 151,   9, 218], device='cuda:0') generated [84, 37, 240, 138, 151, 9, 218]\n",
            "real tensor([ 68,   6, 218], device='cuda:0') generated [68, 6, 218]\n",
            "real tensor([ 70,   3, 169, 132,   8, 218], device='cuda:0') generated [70, 3, 169, 132, 8, 218]\n",
            "real tensor([ 77,  20,  64, 218], device='cuda:0') generated [77, 20, 64, 218]\n",
            "real tensor([ 74,   3, 169, 161, 157,  64, 218], device='cuda:0') generated [74, 3, 169, 161, 157, 64, 218]\n",
            "real tensor([ 77,   3, 169,  91, 243,  89,  64, 218], device='cuda:0') generated [77, 3, 169, 91, 243, 89, 64, 218]\n",
            "real tensor([191,  37, 137, 252,  91,  64, 218], device='cuda:0') generated [191, 37, 252, 137, 91, 64, 218]\n",
            "real tensor([ 84,  37, 240,  90, 250,  81,  64, 218], device='cuda:0') generated [84, 37, 240, 90, 250, 81, 64, 218]\n"
          ]
        }
      ]
    },
    {
      "cell_type": "code",
      "source": [
        "for index,seq in enumerate(generated_sequences):\n",
        "    natije = tokenizer.decode(seq , skip_special_tokens=True).strip()\n",
        "    save_byte_image(clean_image_string(natije), images[index]['caption']+'-gen')\n",
        "\n",
        "    natije = Image.open(images[index]['caption'] + \"-gen.jpg\")\n",
        "    try:\n",
        "      natije = transform(natije)\n",
        "    except:\n",
        "      natije = None\n",
        "    if natije == None:\n",
        "      print('failed:',images[index]['caption'])\n",
        "      continue\n",
        "    print(images[index]['caption'])\n",
        "    print('    generated')\n",
        "    display(natije)\n",
        "    print('    real')\n",
        "    display(transform(images[index]['image']))\n",
        "    print()\n",
        "    print()\n",
        ""
      ],
      "metadata": {
        "colab": {
          "base_uri": "https://localhost:8080/",
          "height": 1000
        },
        "id": "s0H_Re8D9mw-",
        "outputId": "6e6d7bd7-01ad-44d5-d039-8bc07beda12b"
      },
      "execution_count": 149,
      "outputs": [
        {
          "output_type": "stream",
          "name": "stdout",
          "text": [
            "blue\n",
            "    generated\n"
          ]
        },
        {
          "output_type": "display_data",
          "data": {
            "text/plain": [
              "<PIL.Image.Image image mode=RGB size=256x256>"
            ],
            "image/png": "[encoded data removed]",
            "image/jpeg": "[encoded data removed]"
          },
          "metadata": {}
        },
        {
          "output_type": "stream",
          "name": "stdout",
          "text": [
            "    real\n"
          ]
        },
        {
          "output_type": "display_data",
          "data": {
            "text/plain": [
              "<PIL.Image.Image image mode=RGB size=256x256>"
            ],
            "image/png": "[encoded data removed]",
            "image/jpeg": "[encoded data removed]"
          },
          "metadata": {}
        },
        {
          "output_type": "stream",
          "name": "stdout",
          "text": [
            "\n",
            "\n",
            "brown\n",
            "    generated\n"
          ]
        },
        {
          "output_type": "display_data",
          "data": {
            "text/plain": [
              "<PIL.Image.Image image mode=RGB size=256x256>"
            ],
            "image/png": "[encoded data removed]",
            "image/jpeg": "[encoded data removed]"
          },
          "metadata": {}
        },
        {
          "output_type": "stream",
          "name": "stdout",
          "text": [
            "    real\n"
          ]
        },
        {
          "output_type": "display_data",
          "data": {
            "text/plain": [
              "<PIL.Image.Image image mode=RGB size=256x256>"
            ],
            "image/png": "[encoded data removed]",
            "image/jpeg": "[encoded data removed]"
          },
          "metadata": {}
        },
        {
          "output_type": "stream",
          "name": "stdout",
          "text": [
            "\n",
            "\n",
            "green\n",
            "    generated\n"
          ]
        },
        {
          "output_type": "display_data",
          "data": {
            "text/plain": [
              "<PIL.Image.Image image mode=RGB size=256x256>"
            ],
            "image/png": "[encoded data removed]",
            "image/jpeg": "[encoded data removed]"
          },
          "metadata": {}
        },
        {
          "output_type": "stream",
          "name": "stdout",
          "text": [
            "    real\n"
          ]
        },
        {
          "output_type": "display_data",
          "data": {
            "text/plain": [
              "<PIL.Image.Image image mode=RGB size=256x256>"
            ],
            "image/png": "[encoded data removed]",
            "image/jpeg": "[encoded data removed]"
          },
          "metadata": {}
        },
        {
          "output_type": "stream",
          "name": "stdout",
          "text": [
            "\n",
            "\n",
            "grey\n",
            "    generated\n"
          ]
        },
        {
          "output_type": "display_data",
          "data": {
            "text/plain": [
              "<PIL.Image.Image image mode=RGB size=256x256>"
            ],
            "image/png": "[encoded data removed]",
            "image/jpeg": "[encoded data removed]"
          },
          "metadata": {}
        },
        {
          "output_type": "stream",
          "name": "stdout",
          "text": [
            "    real\n"
          ]
        },
        {
          "output_type": "display_data",
          "data": {
            "text/plain": [
              "<PIL.Image.Image image mode=RGB size=256x256>"
            ],
            "image/png": "[encoded data removed]",
            "image/jpeg": "[encoded data removed]"
          },
          "metadata": {}
        },
        {
          "output_type": "stream",
          "name": "stdout",
          "text": [
            "\n",
            "\n",
            "lavender\n",
            "    generated\n"
          ]
        },
        {
          "output_type": "display_data",
          "data": {
            "text/plain": [
              "<PIL.Image.Image image mode=RGB size=256x256>"
            ],
            "image/png": "[encoded data removed]",
            "image/jpeg": "[encoded data removed]"
          },
          "metadata": {}
        },
        {
          "output_type": "stream",
          "name": "stdout",
          "text": [
            "    real\n"
          ]
        },
        {
          "output_type": "display_data",
          "data": {
            "text/plain": [
              "<PIL.Image.Image image mode=RGB size=256x256>"
            ],
            "image/png": "[encoded data removed]",
            "image/jpeg": "[encoded data removed]"
          },
          "metadata": {}
        },
        {
          "output_type": "stream",
          "name": "stdout",
          "text": [
            "\n",
            "\n",
            "light grey\n",
            "    generated\n"
          ]
        },
        {
          "output_type": "display_data",
          "data": {
            "text/plain": [
              "<PIL.Image.Image image mode=RGB size=256x256>"
            ],
            "image/png": "[encoded data removed]",
            "image/jpeg": "[encoded data removed]"
          },
          "metadata": {}
        },
        {
          "output_type": "stream",
          "name": "stdout",
          "text": [
            "    real\n"
          ]
        },
        {
          "output_type": "display_data",
          "data": {
            "text/plain": [
              "<PIL.Image.Image image mode=RGB size=256x256>"
            ],
            "image/png": "[encoded data removed]",
            "image/jpeg": "[encoded data removed]"
          },
          "metadata": {}
        },
        {
          "output_type": "stream",
          "name": "stdout",
          "text": [
            "\n",
            "\n",
            "lime\n",
            "    generated\n"
          ]
        },
        {
          "output_type": "display_data",
          "data": {
            "text/plain": [
              "<PIL.Image.Image image mode=RGB size=256x256>"
            ],
            "image/png": "[encoded data removed]",
            "image/jpeg": "[encoded data removed]"
          },
          "metadata": {}
        },
        {
          "output_type": "stream",
          "name": "stdout",
          "text": [
            "    real\n"
          ]
        },
        {
          "output_type": "display_data",
          "data": {
            "text/plain": [
              "<PIL.Image.Image image mode=RGB size=256x256>"
            ],
            "image/png": "[encoded data removed]",
            "image/jpeg": "[encoded data removed]"
          },
          "metadata": {}
        },
        {
          "output_type": "stream",
          "name": "stdout",
          "text": [
            "\n",
            "\n",
            "orange\n",
            "    generated\n"
          ]
        },
        {
          "output_type": "display_data",
          "data": {
            "text/plain": [
              "<PIL.Image.Image image mode=RGB size=256x256>"
            ],
            "image/png": "[encoded data removed]",
            "image/jpeg": "[encoded data removed]"
          },
          "metadata": {}
        },
        {
          "output_type": "stream",
          "name": "stdout",
          "text": [
            "    real\n"
          ]
        },
        {
          "output_type": "display_data",
          "data": {
            "text/plain": [
              "<PIL.Image.Image image mode=RGB size=256x256>"
            ],
            "image/png": "[encoded data removed]",
            "image/jpeg": "[encoded data removed]"
          },
          "metadata": {}
        },
        {
          "output_type": "stream",
          "name": "stdout",
          "text": [
            "\n",
            "\n",
            "pink\n",
            "    generated\n"
          ]
        },
        {
          "output_type": "display_data",
          "data": {
            "text/plain": [
              "<PIL.Image.Image image mode=RGB size=256x256>"
            ],
            "image/png": "[encoded data removed]",
            "image/jpeg": "[encoded data removed]"
          },
          "metadata": {}
        },
        {
          "output_type": "stream",
          "name": "stdout",
          "text": [
            "    real\n"
          ]
        },
        {
          "output_type": "display_data",
          "data": {
            "text/plain": [
              "<PIL.Image.Image image mode=RGB size=256x256>"
            ],
            "image/png": "[encoded data removed]",
            "image/jpeg": "[encoded data removed]"
          },
          "metadata": {}
        },
        {
          "output_type": "stream",
          "name": "stdout",
          "text": [
            "\n",
            "\n",
            "red\n",
            "    generated\n"
          ]
        },
        {
          "output_type": "display_data",
          "data": {
            "text/plain": [
              "<PIL.Image.Image image mode=RGB size=256x256>"
            ],
            "image/png": "[encoded data removed]",
            "image/jpeg": "[encoded data removed]"
          },
          "metadata": {}
        },
        {
          "output_type": "stream",
          "name": "stdout",
          "text": [
            "    real\n"
          ]
        },
        {
          "output_type": "display_data",
          "data": {
            "text/plain": [
              "<PIL.Image.Image image mode=RGB size=256x256>"
            ],
            "image/png": "[encoded data removed]",
            "image/jpeg": "[encoded data removed]"
          },
          "metadata": {}
        },
        {
          "output_type": "stream",
          "name": "stdout",
          "text": [
            "\n",
            "\n"
          ]
        }
      ]
    },
    {
      "cell_type": "code",
      "source": [
        "# now get the text embeddings from clip"
      ],
      "metadata": {
        "id": "Xj-UHTOfMI1U"
      },
      "execution_count": 150,
      "outputs": []
    },
    {
      "cell_type": "code",
      "source": [
        "def find_next_two_with_text(az, end, before, index):\n",
        "\n",
        "    min_value = 1000000000\n",
        "    best = [0, 0]\n",
        "    for i in tqdm(range(0, 320)):\n",
        "        for j in range(0, 320):\n",
        "            # if i == 0 and j == 0:\n",
        "            #     print('last is',partial_input_idsg[az +2:end])\n",
        "            input_model = prefix + before + [i] + [j]\n",
        "            input_model += partial_input_ids_list[index][az + 2:end]\n",
        "            # input_model += [0] * (end - az -2)\n",
        "            input_tensor = torch.tensor(input_model).to(dtype=torch.long, device=device)\n",
        "            input_embeddings = model.model.embed_tokens(input_tensor)\n",
        "\n",
        "            input_embedding = torch.sum(input_embeddings, dim=0)\n",
        "            current_loss = torch.norm(text_embeddings_list[index] - input_embedding).item()\n",
        "            if current_loss <= min_value:\n",
        "                best = [i] + [j]\n",
        "                min_value = current_loss\n",
        "    if best[0] == 218:\n",
        "      best[0], best[1] = best[1], best[0]\n",
        "    print(min_value)\n",
        "    return best\n",
        "\n",
        "text_embeddings_list = []\n",
        "for obj in images:\n",
        "    t_emb = torch.load('t_' + obj['caption']+ '.pt')\n",
        "    text_embeddings_list.append(t_emb)\n",
        "\n",
        "text_embeddings_list"
      ],
      "metadata": {
        "colab": {
          "base_uri": "https://localhost:8080/"
        },
        "id": "XKTqRb9aXLV8",
        "outputId": "ccc77007-f8a2-4064-d2d8-412ac2c26ce9"
      },
      "execution_count": 152,
      "outputs": [
        {
          "output_type": "stream",
          "name": "stderr",
          "text": [
            "<ipython-input-152-ae5876ba4160>:27: FutureWarning: You are using `torch.load` with `weights_only=False` (the current default value), which uses the default pickle module implicitly. It is possible to construct malicious pickle data which will execute arbitrary code during unpickling (See https://github.com/pytorch/pytorch/blob/main/SECURITY.md#untrusted-models for more details). In a future release, the default value for `weights_only` will be flipped to `True`. This limits the functions that could be executed during unpickling. Arbitrary objects will no longer be allowed to be loaded via this mode unless they are explicitly allowlisted by the user via `torch.serialization.add_safe_globals`. We recommend you start setting `weights_only=True` for any use case where you don't have full control of the loaded file. Please open an issue on GitHub for any issues related to this experimental feature.\n",
            "  t_emb = torch.load('t_' + obj['caption']+ '.pt')\n"
          ]
        },
        {
          "output_type": "execute_result",
          "data": {
            "text/plain": [
              "[tensor([-0.1802,  0.1803,  0.1135,  ..., -0.0349, -0.0865, -0.2721]),\n",
              " tensor([-0.1812,  0.1842,  0.1138,  ..., -0.0359, -0.0871, -0.2735]),\n",
              " tensor([-0.1813,  0.1826,  0.1125,  ..., -0.0345, -0.0872, -0.2724]),\n",
              " tensor([-0.1796,  0.1829,  0.1127,  ..., -0.0354, -0.0864, -0.2707]),\n",
              " tensor([-0.1717,  0.1836,  0.1011,  ..., -0.0333, -0.0833, -0.2528]),\n",
              " tensor([-0.1696,  0.1649,  0.1289,  ..., -0.0531, -0.0700, -0.2685]),\n",
              " tensor([-0.1710,  0.1838,  0.0986,  ..., -0.0328, -0.0829, -0.2499]),\n",
              " tensor([-0.1774,  0.1834,  0.1080,  ..., -0.0341, -0.0856, -0.2646]),\n",
              " tensor([-0.1952,  0.1778,  0.1197,  ..., -0.0337, -0.0880, -0.2847]),\n",
              " tensor([-0.1810,  0.1822,  0.1131,  ..., -0.0350, -0.0867, -0.2723])]"
            ]
          },
          "metadata": {},
          "execution_count": 152
        }
      ]
    },
    {
      "cell_type": "code",
      "source": [
        "generated_sequences_with_text = []\n",
        "for index, image_obj in enumerate(images):\n",
        "    # if image_obj['caption'] not in ['pink','purple','light grey']:\n",
        "    #   continue\n",
        "    print(index)\n",
        "    ans = []\n",
        "\n",
        "    l = len(partial_input_ids_tensor_list[index])\n",
        "    for i in range((l-PREFIX_LEN)//2):\n",
        "        ans += find_next_two(52 + i*2, l, ans, index)\n",
        "\n",
        "    ans = prefix + ans\n",
        "    if l %2 == 1:\n",
        "        ans.append(218)\n",
        "    generated_sequences_with_text.append(ans)\n"
      ],
      "metadata": {
        "colab": {
          "base_uri": "https://localhost:8080/"
        },
        "id": "AHtwgchXZYO0",
        "outputId": "c5572d66-c377-41c1-db0f-cdb8ad9ea6dd"
      },
      "execution_count": 153,
      "outputs": [
        {
          "output_type": "stream",
          "name": "stdout",
          "text": [
            "0\n"
          ]
        },
        {
          "output_type": "stream",
          "name": "stderr",
          "text": [
            "100%|██████████| 320/320 [00:30<00:00, 10.55it/s]\n",
            "100%|██████████| 320/320 [00:23<00:00, 13.47it/s]\n",
            "100%|██████████| 320/320 [00:23<00:00, 13.45it/s]\n"
          ]
        },
        {
          "output_type": "stream",
          "name": "stdout",
          "text": [
            "1\n"
          ]
        },
        {
          "output_type": "stream",
          "name": "stderr",
          "text": [
            "100%|██████████| 320/320 [00:23<00:00, 13.46it/s]\n",
            "100%|██████████| 320/320 [00:23<00:00, 13.36it/s]\n",
            "100%|██████████| 320/320 [00:23<00:00, 13.53it/s]\n",
            "100%|██████████| 320/320 [00:23<00:00, 13.51it/s]\n"
          ]
        },
        {
          "output_type": "stream",
          "name": "stdout",
          "text": [
            "2\n"
          ]
        },
        {
          "output_type": "stream",
          "name": "stderr",
          "text": [
            "100%|██████████| 320/320 [00:23<00:00, 13.84it/s]\n",
            "100%|██████████| 320/320 [00:23<00:00, 13.51it/s]\n",
            "100%|██████████| 320/320 [00:23<00:00, 13.40it/s]\n"
          ]
        },
        {
          "output_type": "stream",
          "name": "stdout",
          "text": [
            "3\n"
          ]
        },
        {
          "output_type": "stream",
          "name": "stderr",
          "text": [
            "100%|██████████| 320/320 [00:23<00:00, 13.47it/s]\n"
          ]
        },
        {
          "output_type": "stream",
          "name": "stdout",
          "text": [
            "4\n"
          ]
        },
        {
          "output_type": "stream",
          "name": "stderr",
          "text": [
            "100%|██████████| 320/320 [00:23<00:00, 13.50it/s]\n",
            "100%|██████████| 320/320 [00:23<00:00, 13.39it/s]\n",
            "100%|██████████| 320/320 [00:23<00:00, 13.58it/s]\n"
          ]
        },
        {
          "output_type": "stream",
          "name": "stdout",
          "text": [
            "5\n"
          ]
        },
        {
          "output_type": "stream",
          "name": "stderr",
          "text": [
            "100%|██████████| 320/320 [00:23<00:00, 13.75it/s]\n",
            "100%|██████████| 320/320 [00:23<00:00, 13.62it/s]\n"
          ]
        },
        {
          "output_type": "stream",
          "name": "stdout",
          "text": [
            "6\n"
          ]
        },
        {
          "output_type": "stream",
          "name": "stderr",
          "text": [
            "100%|██████████| 320/320 [00:23<00:00, 13.47it/s]\n",
            "100%|██████████| 320/320 [00:24<00:00, 13.31it/s]\n",
            "100%|██████████| 320/320 [00:24<00:00, 13.33it/s]\n"
          ]
        },
        {
          "output_type": "stream",
          "name": "stdout",
          "text": [
            "7\n"
          ]
        },
        {
          "output_type": "stream",
          "name": "stderr",
          "text": [
            "100%|██████████| 320/320 [00:23<00:00, 13.39it/s]\n",
            "100%|██████████| 320/320 [00:23<00:00, 13.74it/s]\n",
            "100%|██████████| 320/320 [00:23<00:00, 13.71it/s]\n",
            "100%|██████████| 320/320 [00:23<00:00, 13.41it/s]\n"
          ]
        },
        {
          "output_type": "stream",
          "name": "stdout",
          "text": [
            "8\n"
          ]
        },
        {
          "output_type": "stream",
          "name": "stderr",
          "text": [
            "100%|██████████| 320/320 [00:23<00:00, 13.48it/s]\n",
            "100%|██████████| 320/320 [00:23<00:00, 13.41it/s]\n",
            "100%|██████████| 320/320 [00:23<00:00, 13.40it/s]\n"
          ]
        },
        {
          "output_type": "stream",
          "name": "stdout",
          "text": [
            "9\n"
          ]
        },
        {
          "output_type": "stream",
          "name": "stderr",
          "text": [
            "100%|██████████| 320/320 [00:23<00:00, 13.53it/s]\n",
            "100%|██████████| 320/320 [00:23<00:00, 13.69it/s]\n",
            "100%|██████████| 320/320 [00:23<00:00, 13.67it/s]\n",
            "100%|██████████| 320/320 [00:23<00:00, 13.56it/s]\n"
          ]
        }
      ]
    },
    {
      "cell_type": "code",
      "source": [
        "for index,seq in enumerate(generated_sequences_with_text):\n",
        "    natije = tokenizer.decode(seq , skip_special_tokens=True).strip()\n",
        "    save_byte_image(clean_image_string(natije), images[index]['caption']+'-gen-with-text')\n",
        "\n",
        "    natije = Image.open(images[index]['caption'] + \"-gen-with-text.jpg\")\n",
        "    try:\n",
        "      natije = transform(natije)\n",
        "    except:\n",
        "      natije = None\n",
        "    if natije == None:\n",
        "      print('failed:',images[index]['caption'])\n",
        "      continue\n",
        "    print(images[index]['caption'])\n",
        "    print('    generated')\n",
        "    display(natije)\n",
        "    print('    real')\n",
        "    display(transform(images[index]['image']))\n",
        "    print()\n",
        "    print()\n",
        ""
      ],
      "metadata": {
        "colab": {
          "base_uri": "https://localhost:8080/",
          "height": 1000
        },
        "id": "ZgEdo5CqZ2jK",
        "outputId": "5f36d093-a088-4138-8e64-41c6308809e5"
      },
      "execution_count": 155,
      "outputs": [
        {
          "output_type": "stream",
          "name": "stdout",
          "text": [
            "blue\n",
            "    generated\n"
          ]
        },
        {
          "output_type": "display_data",
          "data": {
            "text/plain": [
              "<PIL.Image.Image image mode=RGB size=256x256>"
            ],
            "image/png": "[encoded data removed]",
            "image/jpeg": "[encoded data removed]"
          },
          "metadata": {}
        },
        {
          "output_type": "stream",
          "name": "stdout",
          "text": [
            "    real\n"
          ]
        },
        {
          "output_type": "display_data",
          "data": {
            "text/plain": [
              "<PIL.Image.Image image mode=RGB size=256x256>"
            ],
            "image/png": "[encoded data removed]",
            "image/jpeg": "[encoded data removed]"
          },
          "metadata": {}
        },
        {
          "output_type": "stream",
          "name": "stdout",
          "text": [
            "\n",
            "\n",
            "brown\n",
            "    generated\n"
          ]
        },
        {
          "output_type": "display_data",
          "data": {
            "text/plain": [
              "<PIL.Image.Image image mode=RGB size=256x256>"
            ],
            "image/png": "[encoded data removed]",
            "image/jpeg": "[encoded data removed]"
          },
          "metadata": {}
        },
        {
          "output_type": "stream",
          "name": "stdout",
          "text": [
            "    real\n"
          ]
        },
        {
          "output_type": "display_data",
          "data": {
            "text/plain": [
              "<PIL.Image.Image image mode=RGB size=256x256>"
            ],
            "image/png": "[encoded data removed]",
            "image/jpeg": "[encoded data removed]"
          },
          "metadata": {}
        },
        {
          "output_type": "stream",
          "name": "stdout",
          "text": [
            "\n",
            "\n",
            "green\n",
            "    generated\n"
          ]
        },
        {
          "output_type": "display_data",
          "data": {
            "text/plain": [
              "<PIL.Image.Image image mode=RGB size=256x256>"
            ],
            "image/png": "[encoded data removed]",
            "image/jpeg": "[encoded data removed]"
          },
          "metadata": {}
        },
        {
          "output_type": "stream",
          "name": "stdout",
          "text": [
            "    real\n"
          ]
        },
        {
          "output_type": "display_data",
          "data": {
            "text/plain": [
              "<PIL.Image.Image image mode=RGB size=256x256>"
            ],
            "image/png": "[encoded data removed]",
            "image/jpeg": "[encoded data removed]"
          },
          "metadata": {}
        },
        {
          "output_type": "stream",
          "name": "stdout",
          "text": [
            "\n",
            "\n",
            "grey\n",
            "    generated\n"
          ]
        },
        {
          "output_type": "display_data",
          "data": {
            "text/plain": [
              "<PIL.Image.Image image mode=RGB size=256x256>"
            ],
            "image/png": "[encoded data removed]",
            "image/jpeg": "[encoded data removed]"
          },
          "metadata": {}
        },
        {
          "output_type": "stream",
          "name": "stdout",
          "text": [
            "    real\n"
          ]
        },
        {
          "output_type": "display_data",
          "data": {
            "text/plain": [
              "<PIL.Image.Image image mode=RGB size=256x256>"
            ],
            "image/png": "[encoded data removed]",
            "image/jpeg": "[encoded data removed]"
          },
          "metadata": {}
        },
        {
          "output_type": "stream",
          "name": "stdout",
          "text": [
            "\n",
            "\n",
            "lavender\n",
            "    generated\n"
          ]
        },
        {
          "output_type": "display_data",
          "data": {
            "text/plain": [
              "<PIL.Image.Image image mode=RGB size=256x256>"
            ],
            "image/png": "[encoded data removed]",
            "image/jpeg": "[encoded data removed]"
          },
          "metadata": {}
        },
        {
          "output_type": "stream",
          "name": "stdout",
          "text": [
            "    real\n"
          ]
        },
        {
          "output_type": "display_data",
          "data": {
            "text/plain": [
              "<PIL.Image.Image image mode=RGB size=256x256>"
            ],
            "image/png": "[encoded data removed]",
            "image/jpeg": "[encoded data removed]"
          },
          "metadata": {}
        },
        {
          "output_type": "stream",
          "name": "stdout",
          "text": [
            "\n",
            "\n",
            "light grey\n",
            "    generated\n"
          ]
        },
        {
          "output_type": "display_data",
          "data": {
            "text/plain": [
              "<PIL.Image.Image image mode=RGB size=256x256>"
            ],
            "image/png": "[encoded data removed]",
            "image/jpeg": "[encoded data removed]"
          },
          "metadata": {}
        },
        {
          "output_type": "stream",
          "name": "stdout",
          "text": [
            "    real\n"
          ]
        },
        {
          "output_type": "display_data",
          "data": {
            "text/plain": [
              "<PIL.Image.Image image mode=RGB size=256x256>"
            ],
            "image/png": "[encoded data removed]",
            "image/jpeg": "[encoded data removed]"
          },
          "metadata": {}
        },
        {
          "output_type": "stream",
          "name": "stdout",
          "text": [
            "\n",
            "\n",
            "lime\n",
            "    generated\n"
          ]
        },
        {
          "output_type": "display_data",
          "data": {
            "text/plain": [
              "<PIL.Image.Image image mode=RGB size=256x256>"
            ],
            "image/png": "[encoded data removed]",
            "image/jpeg": "[encoded data removed]"
          },
          "metadata": {}
        },
        {
          "output_type": "stream",
          "name": "stdout",
          "text": [
            "    real\n"
          ]
        },
        {
          "output_type": "display_data",
          "data": {
            "text/plain": [
              "<PIL.Image.Image image mode=RGB size=256x256>"
            ],
            "image/png": "[encoded data removed]",
            "image/jpeg": "[encoded data removed]"
          },
          "metadata": {}
        },
        {
          "output_type": "stream",
          "name": "stdout",
          "text": [
            "\n",
            "\n",
            "orange\n",
            "    generated\n"
          ]
        },
        {
          "output_type": "display_data",
          "data": {
            "text/plain": [
              "<PIL.Image.Image image mode=RGB size=256x256>"
            ],
            "image/png": "[encoded data removed]",
            "image/jpeg": "[encoded data removed]"
          },
          "metadata": {}
        },
        {
          "output_type": "stream",
          "name": "stdout",
          "text": [
            "    real\n"
          ]
        },
        {
          "output_type": "display_data",
          "data": {
            "text/plain": [
              "<PIL.Image.Image image mode=RGB size=256x256>"
            ],
            "image/png": "[encoded data removed]",
            "image/jpeg": "[encoded data removed]"
          },
          "metadata": {}
        },
        {
          "output_type": "stream",
          "name": "stdout",
          "text": [
            "\n",
            "\n",
            "pink\n",
            "    generated\n"
          ]
        },
        {
          "output_type": "display_data",
          "data": {
            "text/plain": [
              "<PIL.Image.Image image mode=RGB size=256x256>"
            ],
            "image/png": "[encoded data removed]",
            "image/jpeg": "[encoded data removed]"
          },
          "metadata": {}
        },
        {
          "output_type": "stream",
          "name": "stdout",
          "text": [
            "    real\n"
          ]
        },
        {
          "output_type": "display_data",
          "data": {
            "text/plain": [
              "<PIL.Image.Image image mode=RGB size=256x256>"
            ],
            "image/png": "[encoded data removed]",
            "image/jpeg": "[encoded data removed]"
          },
          "metadata": {}
        },
        {
          "output_type": "stream",
          "name": "stdout",
          "text": [
            "\n",
            "\n",
            "red\n",
            "    generated\n"
          ]
        },
        {
          "output_type": "display_data",
          "data": {
            "text/plain": [
              "<PIL.Image.Image image mode=RGB size=256x256>"
            ],
            "image/png": "[encoded data removed]",
            "image/jpeg": "[encoded data removed]"
          },
          "metadata": {}
        },
        {
          "output_type": "stream",
          "name": "stdout",
          "text": [
            "    real\n"
          ]
        },
        {
          "output_type": "display_data",
          "data": {
            "text/plain": [
              "<PIL.Image.Image image mode=RGB size=256x256>"
            ],
            "image/png": "[encoded data removed]",
            "image/jpeg": "[encoded data removed]"
          },
          "metadata": {}
        },
        {
          "output_type": "stream",
          "name": "stdout",
          "text": [
            "\n",
            "\n"
          ]
        }
      ]
    },
    {
      "cell_type": "code",
      "source": [
        "!zip -r files.zip *"
      ],
      "metadata": {
        "colab": {
          "base_uri": "https://localhost:8080/"
        },
        "id": "z6Tf8-kogDkR",
        "outputId": "37a63b20-0c9a-46aa-9f44-cc4e5c1a2ebc"
      },
      "execution_count": 156,
      "outputs": [
        {
          "output_type": "stream",
          "name": "stdout",
          "text": [
            "updating: blue.jpg (deflated 33%)\n",
            "updating: blue.pt (deflated 12%)\n",
            "updating: brown.jpg (deflated 33%)\n",
            "updating: brown.pt (deflated 12%)\n",
            "updating: cache_tables.jpg (deflated 32%)\n",
            "updating: green.jpg (deflated 33%)\n",
            "updating: green.pt (deflated 12%)\n",
            "updating: grey.jpg (deflated 33%)\n",
            "updating: grey.pt (deflated 12%)\n",
            "updating: lavender.jpg (deflated 33%)\n",
            "updating: lavender.pt (deflated 13%)\n",
            "updating: light grey.jpg (deflated 33%)\n",
            "updating: light grey.pt (deflated 13%)\n",
            "updating: lime.jpg (deflated 33%)\n",
            "updating: lime.pt (deflated 12%)\n",
            "updating: orange.jpg (deflated 33%)\n",
            "updating: orange.pt (deflated 12%)\n",
            "updating: pink.jpg (deflated 33%)\n",
            "updating: pink.pt (deflated 12%)\n",
            "updating: red.jpg (deflated 33%)\n",
            "updating: red.pt (deflated 12%)\n",
            "  adding: blue-gen.jpg (deflated 29%)\n",
            "  adding: blue-gen-with-text.jpg (deflated 29%)\n",
            "  adding: brown-gen.jpg (deflated 30%)\n",
            "  adding: brown-gen-with-text.jpg (deflated 30%)\n",
            "  adding: green-gen.jpg (deflated 29%)\n",
            "  adding: green-gen-with-text.jpg (deflated 29%)\n",
            "  adding: grey-gen.jpg (deflated 30%)\n",
            "  adding: grey-gen-with-text.jpg (deflated 30%)\n",
            "  adding: lavender-gen.jpg (deflated 30%)\n",
            "  adding: lavender-gen-with-text.jpg (deflated 30%)\n",
            "  adding: light grey-gen.jpg (deflated 30%)\n",
            "  adding: light grey-gen-with-text.jpg (deflated 30%)\n",
            "  adding: lime-gen.jpg (deflated 30%)\n",
            "  adding: lime-gen-with-text.jpg (deflated 30%)\n",
            "  adding: orange-gen.jpg (deflated 29%)\n",
            "  adding: orange-gen-with-text.jpg (deflated 29%)\n",
            "  adding: pink-gen.jpg (deflated 30%)\n",
            "  adding: pink-gen-with-text.jpg (deflated 30%)\n",
            "  adding: red-gen.jpg (deflated 29%)\n",
            "  adding: red-gen-with-text.jpg (deflated 29%)\n",
            "  adding: t_blue.pt (deflated 10%)\n",
            "  adding: t_brown.pt (deflated 10%)\n",
            "  adding: t_green.pt (deflated 10%)\n",
            "  adding: t_grey.pt (deflated 10%)\n",
            "  adding: t_lavender.pt (deflated 10%)\n",
            "  adding: t_light grey.pt (deflated 10%)\n",
            "  adding: t_lime.pt (deflated 10%)\n",
            "  adding: t_orange.pt (deflated 10%)\n",
            "  adding: t_pink.pt (deflated 10%)\n",
            "  adding: t_red.pt (deflated 10%)\n"
          ]
        }
      ]
    },
    {
      "cell_type": "code",
      "source": [
        "!rm ./*"
      ],
      "metadata": {
        "id": "rhP_qYADgf3E"
      },
      "execution_count": 137,
      "outputs": []
    }
  ]
}