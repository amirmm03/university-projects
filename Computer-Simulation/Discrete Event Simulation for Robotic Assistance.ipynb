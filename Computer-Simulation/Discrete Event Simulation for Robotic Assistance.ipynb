{
  "nbformat": 4,
  "nbformat_minor": 0,
  "metadata": {
    "colab": {
      "provenance": []
    },
    "kernelspec": {
      "name": "python3",
      "display_name": "Python 3"
    },
    "language_info": {
      "name": "python"
    }
  },
  "cells": [
    {
      "cell_type": "code",
      "execution_count": 19,
      "metadata": {
        "id": "xQ6JZ6uPPSwM"
      },
      "outputs": [],
      "source": [
        "import random\n",
        "import numpy as np\n",
        "from numpy.random import rand\n",
        "\n",
        "class Patient:\n",
        "    def __init__(self, arrival_time, disability_type, destination):\n",
        "        self.arrival_time = arrival_time\n",
        "        self.disability_type = disability_type\n",
        "        self.destination = destination\n",
        "    def __str__(self) -> str:\n",
        "        return \"arrival : \" + str(self.arrival_time)\n",
        "\n",
        "class Server:\n",
        "    def __init__(self, is_robotic=False, alpha=1.0, error_prob=0.0):\n",
        "        self.is_robotic = is_robotic\n",
        "        self.alpha = alpha\n",
        "        self.error_prob = error_prob\n",
        "        self.busy_until = 0\n",
        "\n",
        "    def serve(self, patient, current_time):\n",
        "        # Determine service time based on disability type and destination\n",
        "        service_times = {\n",
        "            1: {'A': 8, 'B': 10},\n",
        "            2: {'A': 10, 'B': 14},\n",
        "            3: {'A': 18, 'B': 16},\n",
        "            'None': {'A': 4, 'B': 6}\n",
        "        }\n",
        "        disability = patient.disability_type if patient.disability_type else 'None'\n",
        "        base_time = service_times[disability][patient.destination]\n",
        "        service_time = base_time * (self.alpha if self.is_robotic and disability != 'None' else 1)\n",
        "        # Add error-related delays\n",
        "        errors = np.random.geometric(1-self.error_prob) - 1 if self.error_prob > 0 else 0\n",
        "        total_service_time = service_time * (1 + errors)\n",
        "        self.busy_until = current_time + total_service_time\n",
        "        return total_service_time\n",
        "\n",
        "class Simulation:\n",
        "    def __init__(self, total_time, arrival_rate, disability_prob, destination_prob, robot_alpha, error_prob, is_robotic):\n",
        "        self.total_time = total_time\n",
        "        self.arrival_rate = arrival_rate\n",
        "        self.disability_prob = disability_prob\n",
        "        self.destination_prob = destination_prob\n",
        "        self.robot_alpha = robot_alpha\n",
        "        self.error_prob = error_prob\n",
        "        self.is_robotic = is_robotic\n",
        "        self.patients = []\n",
        "        self.standard_server = Server(is_robotic=False, error_prob=error_prob)\n",
        "        self.robotic_server = Server(is_robotic=is_robotic, alpha=robot_alpha, error_prob=error_prob)\n",
        "\n",
        "    def generate_patients(self):\n",
        "        current_time = 0\n",
        "        while current_time < self.total_time:\n",
        "            # Generate next arrival time\n",
        "            inter_arrival_time = np.random.exponential(1 / self.arrival_rate)\n",
        "            current_time += inter_arrival_time\n",
        "            if current_time >= self.total_time:\n",
        "                break\n",
        "\n",
        "            # Assign disability type and destination\n",
        "            disability = random.choices([1, 2, 3, 'None'], weights=[self.disability_prob/3, self.disability_prob/3, self.disability_prob/3, 1 - self.disability_prob])[0]\n",
        "\n",
        "            destination = random.choices(['A', 'B'], weights=[self.destination_prob, 1 - self.destination_prob])[0]\n",
        "\n",
        "            self.patients.append(Patient(current_time, disability, destination))\n",
        "\n",
        "    def select_pationt_q2(self, queue2):\n",
        "        if not self.is_robotic:\n",
        "            return queue2.pop(0)\n",
        "\n",
        "        for i,patient in enumerate(queue2):\n",
        "            if patient.disability_type != 'None':\n",
        "                return queue2.pop(i)\n",
        "\n",
        "        return queue2.pop(0)\n",
        "\n",
        "\n",
        "\n",
        "    def run(self):\n",
        "        queue1 = []\n",
        "        queue2 = []\n",
        "        current_time = 0\n",
        "        waiting_times = []\n",
        "        waiting_times_dis = []\n",
        "        waiting_times_not_dis = []\n",
        "        service_times = []\n",
        "        utilize_1 = 0\n",
        "        utilize_2 = 0\n",
        "\n",
        "\n",
        "\n",
        "        for patient in self.patients:\n",
        "            # Fast-forward time\n",
        "            current_time = max(current_time, patient.arrival_time)\n",
        "            if patient.disability_type == 'None':\n",
        "            # Add patient to the queue\n",
        "                if len(queue2) == len(queue1):\n",
        "                    rand_q = random.choices([1, 2])[0]\n",
        "                    if rand_q == 1:\n",
        "                        queue1.append(patient)\n",
        "                    else:\n",
        "                        queue2.append(patient)\n",
        "\n",
        "\n",
        "                elif len(queue2) > len(queue1):\n",
        "                    queue1.append(patient)\n",
        "                else:\n",
        "                    queue2.append(patient)\n",
        "\n",
        "            else:\n",
        "                queue2.append(patient)\n",
        "\n",
        "            # Serve patients\n",
        "            while (queue1 and current_time >= self.standard_server.busy_until):\n",
        "                patient_to_serve = queue1.pop(0)\n",
        "                server = self.standard_server\n",
        "\n",
        "                waiting_times.append(max(server.busy_until,patient_to_serve.arrival_time) - patient_to_serve.arrival_time)\n",
        "                if patient_to_serve.disability_type == 'None':\n",
        "                    waiting_times_not_dis.append(max(server.busy_until,patient_to_serve.arrival_time) - patient_to_serve.arrival_time)\n",
        "                else:\n",
        "                    waiting_times_dis.append(max(server.busy_until,patient_to_serve.arrival_time) - patient_to_serve.arrival_time)\n",
        "\n",
        "                service_time = server.serve(patient_to_serve, max(server.busy_until,patient_to_serve.arrival_time))\n",
        "                utilize_1 += service_time\n",
        "\n",
        "\n",
        "                service_times.append(service_time)\n",
        "                current_time += service_time\n",
        "\n",
        "            while  (queue2 and current_time >= self.robotic_server.busy_until):\n",
        "\n",
        "                patient_to_serve = self.select_pationt_q2(queue2)\n",
        "                server = self.robotic_server\n",
        "\n",
        "                waiting_times.append(max(server.busy_until,patient_to_serve.arrival_time) - patient_to_serve.arrival_time)\n",
        "                if patient_to_serve.disability_type == 'None':\n",
        "                    waiting_times_not_dis.append(max(server.busy_until,patient_to_serve.arrival_time) - patient_to_serve.arrival_time)\n",
        "                else:\n",
        "                    waiting_times_dis.append(max(server.busy_until,patient_to_serve.arrival_time) - patient_to_serve.arrival_time)\n",
        "\n",
        "                service_time = server.serve(patient_to_serve, max(server.busy_until,patient_to_serve.arrival_time))\n",
        "\n",
        "                utilize_2 += service_time\n",
        "\n",
        "                service_times.append(service_time)\n",
        "                current_time += service_time\n",
        "\n",
        "\n",
        "        # Calculate metrics\n",
        "        metrics = {\n",
        "            'avg_waiting_time': np.mean(waiting_times),\n",
        "            'avg_service_time': np.mean(service_times),\n",
        "            'avg_queue_length': np.sum(waiting_times)/(2*current_time),\n",
        "            'avg_total_time_in_system': np.mean(waiting_times) + np.mean(service_times),\n",
        "            'avg_waiting_time_disabled': np.mean(waiting_times_dis),\n",
        "            'avg_waiting_time_not_disabled': np.mean(waiting_times_not_dis),\n",
        "            'number_of_disabled': len(waiting_times_dis),\n",
        "            'number_of_not_disabled': len(waiting_times_not_dis),\n",
        "            'utilization1': utilize_1/current_time,\n",
        "            'utilization2': utilize_2/current_time,\n",
        "\n",
        "        }\n",
        "\n",
        "        return metrics\n",
        "\n",
        "def run_simulation_once(args):\n",
        "    simulation = Simulation(\n",
        "        **args\n",
        "    )\n",
        "    simulation.generate_patients()\n",
        "    metrics = simulation.run()\n",
        "    return metrics\n",
        "\n",
        "\n",
        "def run_multiple_times(times, args):\n",
        "    results = []\n",
        "    for i in range(times):\n",
        "        results.append(run_simulation_once(args))\n",
        "\n",
        "    ans = {k:np.mean([val[k] for val in results]) for k in results[0].keys()}\n",
        "\n",
        "    print('average metrics are')\n",
        "    for k in ans:\n",
        "        print('   ',k,ans[k])\n",
        "\n",
        "    print('----------------------')\n",
        "\n",
        "\n"
      ]
    },
    {
      "cell_type": "markdown",
      "source": [
        "sample run for testing:"
      ],
      "metadata": {
        "id": "PGkdlsX6hUTA"
      }
    },
    {
      "cell_type": "code",
      "source": [
        "number_of_runs = 300\n",
        "args = {\n",
        "    'total_time':1000,  # Total simulation time\n",
        "    'arrival_rate':0.2,  # Lambda for inter-arrival times\n",
        "    'disability_prob':0.3,  # Probability of disability\n",
        "    'destination_prob':0.4,  # Probability of destination A\n",
        "    'robot_alpha':0.5,  # Alpha for robotic server\n",
        "    'error_prob':0.05,  # Probability of error\n",
        "    'is_robotic':True,\n",
        "}\n",
        "run_multiple_times(number_of_runs, args)"
      ],
      "metadata": {
        "colab": {
          "base_uri": "https://localhost:8080/"
        },
        "id": "LSEAi0KoTo0l",
        "outputId": "c9b55ab4-1eef-4a97-e950-8decba2cb46f"
      },
      "execution_count": 2,
      "outputs": [
        {
          "output_type": "stream",
          "name": "stdout",
          "text": [
            "average metrics are\n",
            "    avg_waiting_time 7.618815231381671\n",
            "    avg_service_time 5.834980893283146\n",
            "    avg_queue_length 0.6411869944382762\n",
            "    avg_total_time_in_system 13.453796124664818\n",
            "    avg_waiting_time_disabled 10.766302653213057\n",
            "    avg_waiting_time_not_disabled 6.236200000768734\n",
            "    number_of_disabled 59.61\n",
            "    number_of_not_disabled 139.46\n",
            "    utilization1 0.3241720130218415\n",
            "    utilization2 0.6595620934522783\n",
            "----------------------\n"
          ]
        }
      ]
    },
    {
      "cell_type": "markdown",
      "source": [
        "we run the sumulation for both is-roboic true and false with different parameters and compare results:"
      ],
      "metadata": {
        "id": "uGW7TXHyzKes"
      }
    },
    {
      "cell_type": "code",
      "source": [
        "args = {\n",
        "    'total_time':1000,  # Total simulation time\n",
        "    'arrival_rate':0.2,  # Lambda for inter-arrival times\n",
        "    'disability_prob':0.3,  # Probability of disability\n",
        "    'destination_prob':0.4,  # Probability of destination A\n",
        "    'robot_alpha':0.5,  # Alpha for robotic server\n",
        "    'error_prob':0.05,  # Probability of error\n",
        "    'is_robotic':True,\n",
        "}\n",
        "run_multiple_times(number_of_runs, args)\n",
        "args = {\n",
        "    'total_time':1000,  # Total simulation time\n",
        "    'arrival_rate':0.2,  # Lambda for inter-arrival times\n",
        "    'disability_prob':0.3,  # Probability of disability\n",
        "    'destination_prob':0.4,  # Probability of destination A\n",
        "    'robot_alpha':0.5,  # Alpha for robotic server\n",
        "    'error_prob':0.05,  # Probability of error\n",
        "    'is_robotic':False,\n",
        "}\n",
        "run_multiple_times(number_of_runs, args)\n",
        "\n",
        "\n"
      ],
      "metadata": {
        "colab": {
          "base_uri": "https://localhost:8080/"
        },
        "id": "UbkjXPJxz7P8",
        "outputId": "ed476622-e077-420b-dbdc-992ed8351492"
      },
      "execution_count": 3,
      "outputs": [
        {
          "output_type": "stream",
          "name": "stdout",
          "text": [
            "average metrics are\n",
            "    avg_waiting_time 8.533890882165933\n",
            "    avg_service_time 5.851223905380036\n",
            "    avg_queue_length 0.7163298247546979\n",
            "    avg_total_time_in_system 14.38511478754597\n",
            "    avg_waiting_time_disabled 12.016222647438848\n",
            "    avg_waiting_time_not_disabled 7.000455593440114\n",
            "    number_of_disabled 60.916666666666664\n",
            "    number_of_not_disabled 140.61666666666667\n",
            "    utilization1 0.318961053982723\n",
            "    utilization2 0.6644078125855385\n",
            "----------------------\n",
            "average metrics are\n",
            "    avg_waiting_time 78.21296476921111\n",
            "    avg_service_time 7.865614859858092\n",
            "    avg_queue_length 4.883095452929618\n",
            "    avg_total_time_in_system 86.07857962906921\n",
            "    avg_waiting_time_disabled 115.75987970969982\n",
            "    avg_waiting_time_not_disabled 61.444504109694435\n",
            "    number_of_disabled 59.85333333333333\n",
            "    number_of_not_disabled 139.53333333333333\n",
            "    utilization1 0.24165368163520767\n",
            "    utilization2 0.7516793541038984\n",
            "----------------------\n"
          ]
        }
      ]
    },
    {
      "cell_type": "code",
      "source": [
        "args = {\n",
        "    'total_time':1000,  # Total simulation time\n",
        "    'arrival_rate':0.1,  # Lambda for inter-arrival times\n",
        "    'disability_prob':0.5,  # Probability of disability\n",
        "    'destination_prob':0.7,  # Probability of destination A\n",
        "    'robot_alpha':0.3,  # Alpha for robotic server\n",
        "    'error_prob':0.5,  # Probability of error\n",
        "    'is_robotic':True,\n",
        "}\n",
        "run_multiple_times(number_of_runs, args)\n",
        "args = {\n",
        "    'total_time':1000,  # Total simulation time\n",
        "    'arrival_rate':0.1,  # Lambda for inter-arrival times\n",
        "    'disability_prob':0.5,  # Probability of disability\n",
        "    'destination_prob':0.7,  # Probability of destination A\n",
        "    'robot_alpha':0.3,  # Alpha for robotic server\n",
        "    'error_prob':0.5,  # Probability of error\n",
        "    'is_robotic':False,\n",
        "}\n",
        "run_multiple_times(number_of_runs, args)"
      ],
      "metadata": {
        "colab": {
          "base_uri": "https://localhost:8080/"
        },
        "id": "nNDHBId00D5M",
        "outputId": "eecb09ce-70c6-4e09-caa9-c7ff7bf368ce"
      },
      "execution_count": 4,
      "outputs": [
        {
          "output_type": "stream",
          "name": "stdout",
          "text": [
            "average metrics are\n",
            "    avg_waiting_time 7.856609552970852\n",
            "    avg_service_time 8.407391924204626\n",
            "    avg_queue_length 0.38526969120450727\n",
            "    avg_total_time_in_system 16.264001477175476\n",
            "    avg_waiting_time_disabled 9.806921498037598\n",
            "    avg_waiting_time_not_disabled 5.902719181009905\n",
            "    number_of_disabled 49.45333333333333\n",
            "    number_of_not_disabled 50.42333333333333\n",
            "    utilization1 0.22707005037895375\n",
            "    utilization2 0.5862933431761718\n",
            "----------------------\n",
            "average metrics are\n",
            "    avg_waiting_time 191.27909882288807\n",
            "    avg_service_time 16.954077859577833\n",
            "    avg_queue_length 5.437432385609629\n",
            "    avg_total_time_in_system 208.23317668246588\n",
            "    avg_waiting_time_disabled 253.08963719048216\n",
            "    avg_waiting_time_not_disabled 127.43961642133131\n",
            "    number_of_disabled 49.55\n",
            "    number_of_not_disabled 50.17\n",
            "    utilization1 0.13757949770938446\n",
            "    utilization2 0.8493256047082884\n",
            "----------------------\n"
          ]
        }
      ]
    },
    {
      "cell_type": "markdown",
      "source": [
        "as you see in the results in all combinations using robots helps us in significantlly reducing the time needed for our customers"
      ],
      "metadata": {
        "id": "InJImq1v0Wic"
      }
    },
    {
      "cell_type": "markdown",
      "source": [
        "lets play with parameters:"
      ],
      "metadata": {
        "id": "5XEBZlBs0jFt"
      }
    },
    {
      "cell_type": "code",
      "source": [
        "args = {\n",
        "    'total_time':1000,  # Total simulation time\n",
        "    'arrival_rate':0.5,  # Lambda for inter-arrival times\n",
        "    'disability_prob':0.3,  # Probability of disability\n",
        "    'destination_prob':0.4,  # Probability of destination A\n",
        "    'robot_alpha':0.5,  # Alpha for robotic server\n",
        "    'error_prob':0.05,  # Probability of error\n",
        "    'is_robotic':True,\n",
        "}\n",
        "run_multiple_times(number_of_runs, args)"
      ],
      "metadata": {
        "colab": {
          "base_uri": "https://localhost:8080/"
        },
        "id": "cw-c3GOQ0oAF",
        "outputId": "87aba51a-e9b2-4f84-df04-b9f2f6a2e481"
      },
      "execution_count": 5,
      "outputs": [
        {
          "output_type": "stream",
          "name": "stdout",
          "text": [
            "average metrics are\n",
            "    avg_waiting_time 328.01031945476694\n",
            "    avg_service_time 5.851334513547429\n",
            "    avg_queue_length 27.994778806320888\n",
            "    avg_total_time_in_system 333.8616539683144\n",
            "    avg_waiting_time_disabled 486.8275889296172\n",
            "    avg_waiting_time_not_disabled 259.62556736182785\n",
            "    number_of_disabled 150.23333333333332\n",
            "    number_of_not_disabled 350.9633333333333\n",
            "    utilization1 0.3278967365256393\n",
            "    utilization2 0.6713986271229243\n",
            "----------------------\n"
          ]
        }
      ]
    },
    {
      "cell_type": "code",
      "source": [
        "args = {\n",
        "    'total_time':1000,  # Total simulation time\n",
        "    'arrival_rate':0.1,  # Lambda for inter-arrival times\n",
        "    'disability_prob':0.3,  # Probability of disability\n",
        "    'destination_prob':0.4,  # Probability of destination A\n",
        "    'robot_alpha':0.5,  # Alpha for robotic server\n",
        "    'error_prob':0.05,  # Probability of error\n",
        "    'is_robotic':True,\n",
        "}\n",
        "run_multiple_times(number_of_runs, args)"
      ],
      "metadata": {
        "colab": {
          "base_uri": "https://localhost:8080/"
        },
        "id": "w-HXXDq70qzk",
        "outputId": "ae56caf3-c4ca-4021-ae06-05ce489bc12c"
      },
      "execution_count": 6,
      "outputs": [
        {
          "output_type": "stream",
          "name": "stdout",
          "text": [
            "average metrics are\n",
            "    avg_waiting_time 1.6639225687659216\n",
            "    avg_service_time 5.848620700472036\n",
            "    avg_queue_length 0.08484185228834763\n",
            "    avg_total_time_in_system 7.512543269237956\n",
            "    avg_waiting_time_disabled 2.197101066684464\n",
            "    avg_waiting_time_not_disabled 1.4300622742757303\n",
            "    number_of_disabled 29.983333333333334\n",
            "    number_of_not_disabled 69.99\n",
            "    utilization1 0.19011168857715183\n",
            "    utilization2 0.39392372697584294\n",
            "----------------------\n"
          ]
        }
      ]
    },
    {
      "cell_type": "code",
      "source": [
        "args = {\n",
        "    'total_time':1000,  # Total simulation time\n",
        "    'arrival_rate':0.5,  # Lambda for inter-arrival times\n",
        "    'disability_prob':0.3,  # Probability of disability\n",
        "    'destination_prob':0.4,  # Probability of destination A\n",
        "    'robot_alpha':0.5,  # Alpha for robotic server\n",
        "    'error_prob':0.05,  # Probability of error\n",
        "    'is_robotic':False,\n",
        "}\n",
        "run_multiple_times(number_of_runs, args)"
      ],
      "metadata": {
        "colab": {
          "base_uri": "https://localhost:8080/"
        },
        "id": "x7Mxd74P0xfk",
        "outputId": "e013854e-400b-4a83-f294-ac781dcf6ea8"
      },
      "execution_count": 7,
      "outputs": [
        {
          "output_type": "stream",
          "name": "stdout",
          "text": [
            "average metrics are\n",
            "    avg_waiting_time 659.1852387007992\n",
            "    avg_service_time 7.875932964006286\n",
            "    avg_queue_length 41.7609486431573\n",
            "    avg_total_time_in_system 667.0611716648057\n",
            "    avg_waiting_time_disabled 991.551257912731\n",
            "    avg_waiting_time_not_disabled 515.7054905834589\n",
            "    number_of_disabled 150.43\n",
            "    number_of_not_disabled 351.1666666666667\n",
            "    utilization1 0.24280468280304987\n",
            "    utilization2 0.7566816175570676\n",
            "----------------------\n"
          ]
        }
      ]
    },
    {
      "cell_type": "code",
      "source": [
        "args = {\n",
        "    'total_time':1000,  # Total simulation time\n",
        "    'arrival_rate':0.1,  # Lambda for inter-arrival times\n",
        "    'disability_prob':0.3,  # Probability of disability\n",
        "    'destination_prob':0.4,  # Probability of destination A\n",
        "    'robot_alpha':0.5,  # Alpha for robotic server\n",
        "    'error_prob':0.8,  # Probability of error\n",
        "    'is_robotic':False,\n",
        "}\n",
        "run_multiple_times(number_of_runs, args)"
      ],
      "metadata": {
        "colab": {
          "base_uri": "https://localhost:8080/"
        },
        "id": "Kl-qjEED0z2z",
        "outputId": "94ca0b16-bfd7-47cc-caf5-19de0b79785a"
      },
      "execution_count": 8,
      "outputs": [
        {
          "output_type": "stream",
          "name": "stdout",
          "text": [
            "average metrics are\n",
            "    avg_waiting_time 632.1597718143014\n",
            "    avg_service_time 37.38333465179041\n",
            "    avg_queue_length 8.315750148340932\n",
            "    avg_total_time_in_system 669.5431064660918\n",
            "    avg_waiting_time_disabled 905.0054501819247\n",
            "    avg_waiting_time_not_disabled 510.4957035720683\n",
            "    number_of_disabled 30.006666666666668\n",
            "    number_of_not_disabled 69.61666666666666\n",
            "    utilization1 0.24144639343603724\n",
            "    utilization2 0.7547990423698064\n",
            "----------------------\n"
          ]
        }
      ]
    },
    {
      "cell_type": "code",
      "source": [
        "args = {\n",
        "    'total_time':1000,  # Total simulation time\n",
        "    'arrival_rate':0.1,  # Lambda for inter-arrival times\n",
        "    'disability_prob':0.1,  # Probability of disability\n",
        "    'destination_prob':0.4,  # Probability of destination A\n",
        "    'robot_alpha':0.9,  # Alpha for robotic server\n",
        "    'error_prob':0.05,  # Probability of error\n",
        "    'is_robotic':True,\n",
        "}\n",
        "run_multiple_times(number_of_runs, args)"
      ],
      "metadata": {
        "colab": {
          "base_uri": "https://localhost:8080/"
        },
        "id": "jMI3O0cA05_0",
        "outputId": "910f1084-8f97-4c69-ff4b-45a037fb308b"
      },
      "execution_count": 9,
      "outputs": [
        {
          "output_type": "stream",
          "name": "stdout",
          "text": [
            "average metrics are\n",
            "    avg_waiting_time 1.7296994863922275\n",
            "    avg_service_time 6.140259106044611\n",
            "    avg_queue_length 0.08750875842983134\n",
            "    avg_total_time_in_system 7.869958592436839\n",
            "    avg_waiting_time_disabled 2.413869747432585\n",
            "    avg_waiting_time_not_disabled 1.6407063487220501\n",
            "    number_of_disabled 10.116666666666667\n",
            "    number_of_not_disabled 90.22\n",
            "    utilization1 0.24673984821909792\n",
            "    utilization2 0.36837410265859\n",
            "----------------------\n"
          ]
        }
      ]
    },
    {
      "cell_type": "code",
      "source": [
        "args = {\n",
        "    'total_time':10000,  # Total simulation time\n",
        "    'arrival_rate':0.1,  # Lambda for inter-arrival times\n",
        "    'disability_prob':0.6,  # Probability of disability\n",
        "    'destination_prob':0.6,  # Probability of destination A\n",
        "    'robot_alpha':0.6,  # Alpha for robotic server\n",
        "    'error_prob':0.1,  # Probability of error\n",
        "    'is_robotic':True,\n",
        "}\n",
        "run_multiple_times(number_of_runs, args)"
      ],
      "metadata": {
        "colab": {
          "base_uri": "https://localhost:8080/"
        },
        "id": "wVOADOVb0_c8",
        "outputId": "2dea7de9-4f7b-4254-9f40-834d9ae9f577"
      },
      "execution_count": 10,
      "outputs": [
        {
          "output_type": "stream",
          "name": "stdout",
          "text": [
            "average metrics are\n",
            "    avg_waiting_time 5.767425081570862\n",
            "    avg_service_time 7.1393997640159235\n",
            "    avg_queue_length 0.28878523288570423\n",
            "    avg_total_time_in_system 12.906824845586785\n",
            "    avg_waiting_time_disabled 7.120226908221701\n",
            "    avg_waiting_time_not_disabled 3.740463424379153\n",
            "    number_of_disabled 598.9966666666667\n",
            "    number_of_not_disabled 400.66\n",
            "    utilization1 0.10666145921152208\n",
            "    utilization2 0.6064431901087795\n",
            "----------------------\n"
          ]
        }
      ]
    },
    {
      "cell_type": "markdown",
      "source": [
        "now lets see what is effect of error prob:"
      ],
      "metadata": {
        "id": "OnHJVAFJ1HnU"
      }
    },
    {
      "cell_type": "code",
      "source": [
        "number_of_runs = 300\n",
        "args = {\n",
        "    'total_time':1000,  # Total simulation time\n",
        "    'arrival_rate':0.2,  # Lambda for inter-arrival times\n",
        "    'disability_prob':0.3,  # Probability of disability\n",
        "    'destination_prob':0.4,  # Probability of destination A\n",
        "    'robot_alpha':0.5,  # Alpha for robotic server\n",
        "    'error_prob':0.00,  # Probability of error\n",
        "    'is_robotic':True,\n",
        "}\n",
        "run_multiple_times(number_of_runs, args)"
      ],
      "metadata": {
        "colab": {
          "base_uri": "https://localhost:8080/"
        },
        "id": "_r8bVCeo1PEM",
        "outputId": "18d3e7d7-447f-4d42-9a77-f20d099544b5"
      },
      "execution_count": 11,
      "outputs": [
        {
          "output_type": "stream",
          "name": "stdout",
          "text": [
            "average metrics are\n",
            "    avg_waiting_time 5.890633610818303\n",
            "    avg_service_time 5.5539972098572346\n",
            "    avg_queue_length 0.5172102600376913\n",
            "    avg_total_time_in_system 11.444630820675535\n",
            "    avg_waiting_time_disabled 8.22287624252524\n",
            "    avg_waiting_time_not_disabled 4.8896743877456315\n",
            "    number_of_disabled 58.513333333333335\n",
            "    number_of_not_disabled 139.62\n",
            "    utilization1 0.3217442802090665\n",
            "    utilization2 0.6527858848107919\n",
            "----------------------\n"
          ]
        }
      ]
    },
    {
      "cell_type": "code",
      "source": [
        "number_of_runs = 300\n",
        "args = {\n",
        "    'total_time':1000,  # Total simulation time\n",
        "    'arrival_rate':0.2,  # Lambda for inter-arrival times\n",
        "    'disability_prob':0.3,  # Probability of disability\n",
        "    'destination_prob':0.4,  # Probability of destination A\n",
        "    'robot_alpha':0.5,  # Alpha for robotic server\n",
        "    'error_prob':0.05,  # Probability of error\n",
        "    'is_robotic':True,\n",
        "}\n",
        "run_multiple_times(number_of_runs, args)"
      ],
      "metadata": {
        "colab": {
          "base_uri": "https://localhost:8080/"
        },
        "id": "rlBWx9yz1YaE",
        "outputId": "70495e47-b3e7-4a20-e26f-f92fd65c2ce3"
      },
      "execution_count": 12,
      "outputs": [
        {
          "output_type": "stream",
          "name": "stdout",
          "text": [
            "average metrics are\n",
            "    avg_waiting_time 8.146271480270967\n",
            "    avg_service_time 5.8441057093434905\n",
            "    avg_queue_length 0.6840472426768671\n",
            "    avg_total_time_in_system 13.990377189614458\n",
            "    avg_waiting_time_disabled 11.434360142292228\n",
            "    avg_waiting_time_not_disabled 6.70181739088462\n",
            "    number_of_disabled 59.67\n",
            "    number_of_not_disabled 139.35\n",
            "    utilization1 0.3221913371428876\n",
            "    utilization2 0.6618085935220884\n",
            "----------------------\n"
          ]
        }
      ]
    },
    {
      "cell_type": "code",
      "source": [
        "number_of_runs = 300\n",
        "args = {\n",
        "    'total_time':1000,  # Total simulation time\n",
        "    'arrival_rate':0.2,  # Lambda for inter-arrival times\n",
        "    'disability_prob':0.3,  # Probability of disability\n",
        "    'destination_prob':0.4,  # Probability of destination A\n",
        "    'robot_alpha':0.5,  # Alpha for robotic server\n",
        "    'error_prob':0.1,  # Probability of error\n",
        "    'is_robotic':True,\n",
        "}\n",
        "run_multiple_times(number_of_runs, args)"
      ],
      "metadata": {
        "colab": {
          "base_uri": "https://localhost:8080/"
        },
        "id": "oW938B1R1aic",
        "outputId": "852f67ff-7e66-4fe8-cf73-00fea1d89808"
      },
      "execution_count": 13,
      "outputs": [
        {
          "output_type": "stream",
          "name": "stdout",
          "text": [
            "average metrics are\n",
            "    avg_waiting_time 10.533585523134304\n",
            "    avg_service_time 6.182137240682238\n",
            "    avg_queue_length 0.8379069242313821\n",
            "    avg_total_time_in_system 16.715722763816544\n",
            "    avg_waiting_time_disabled 14.855694319196006\n",
            "    avg_waiting_time_not_disabled 8.640971734020441\n",
            "    number_of_disabled 59.74\n",
            "    number_of_not_disabled 139.93666666666667\n",
            "    utilization1 0.325585242411918\n",
            "    utilization2 0.6608718622688563\n",
            "----------------------\n"
          ]
        }
      ]
    },
    {
      "cell_type": "code",
      "source": [
        "number_of_runs = 300\n",
        "args = {\n",
        "    'total_time':1000,  # Total simulation time\n",
        "    'arrival_rate':0.2,  # Lambda for inter-arrival times\n",
        "    'disability_prob':0.3,  # Probability of disability\n",
        "    'destination_prob':0.4,  # Probability of destination A\n",
        "    'robot_alpha':0.5,  # Alpha for robotic server\n",
        "    'error_prob':0.2,  # Probability of error\n",
        "    'is_robotic':True,\n",
        "}\n",
        "run_multiple_times(number_of_runs, args)"
      ],
      "metadata": {
        "colab": {
          "base_uri": "https://localhost:8080/"
        },
        "id": "KiTC49qG1cj0",
        "outputId": "0fba632d-30f6-433e-db48-79e156b6b025"
      },
      "execution_count": 14,
      "outputs": [
        {
          "output_type": "stream",
          "name": "stdout",
          "text": [
            "average metrics are\n",
            "    avg_waiting_time 22.201541113201213\n",
            "    avg_service_time 6.920446722993963\n",
            "    avg_queue_length 1.577715149531863\n",
            "    avg_total_time_in_system 29.121987836195174\n",
            "    avg_waiting_time_disabled 31.91072628333263\n",
            "    avg_waiting_time_not_disabled 17.969787359942238\n",
            "    number_of_disabled 59.016666666666666\n",
            "    number_of_not_disabled 140.31\n",
            "    utilization1 0.328777736201043\n",
            "    utilization2 0.6624741750504215\n",
            "----------------------\n"
          ]
        }
      ]
    },
    {
      "cell_type": "code",
      "source": [
        "number_of_runs = 300\n",
        "args = {\n",
        "    'total_time':1000,  # Total simulation time\n",
        "    'arrival_rate':0.2,  # Lambda for inter-arrival times\n",
        "    'disability_prob':0.3,  # Probability of disability\n",
        "    'destination_prob':0.4,  # Probability of destination A\n",
        "    'robot_alpha':0.5,  # Alpha for robotic server\n",
        "    'error_prob':0.5,  # Probability of error\n",
        "    'is_robotic':True,\n",
        "}\n",
        "run_multiple_times(number_of_runs, args)"
      ],
      "metadata": {
        "colab": {
          "base_uri": "https://localhost:8080/"
        },
        "id": "ErG6jddg1hWM",
        "outputId": "90002457-d37d-43ad-edc8-b79c25440e1c"
      },
      "execution_count": 15,
      "outputs": [
        {
          "output_type": "stream",
          "name": "stdout",
          "text": [
            "average metrics are\n",
            "    avg_waiting_time 180.1404202876817\n",
            "    avg_service_time 11.08435628681913\n",
            "    avg_queue_length 8.059142791838466\n",
            "    avg_total_time_in_system 191.22477657450085\n",
            "    avg_waiting_time_disabled 264.4544570216654\n",
            "    avg_waiting_time_not_disabled 143.09185881905597\n",
            "    number_of_disabled 60.656666666666666\n",
            "    number_of_not_disabled 140.88666666666666\n",
            "    utilization1 0.324841309248225\n",
            "    utilization2 0.672007182188273\n",
            "----------------------\n"
          ]
        }
      ]
    },
    {
      "cell_type": "code",
      "source": [
        "number_of_runs = 300\n",
        "args = {\n",
        "    'total_time':1000,  # Total simulation time\n",
        "    'arrival_rate':0.2,  # Lambda for inter-arrival times\n",
        "    'disability_prob':0.3,  # Probability of disability\n",
        "    'destination_prob':0.4,  # Probability of destination A\n",
        "    'robot_alpha':0.5,  # Alpha for robotic server\n",
        "    'error_prob':0.8,  # Probability of error\n",
        "    'is_robotic':True,\n",
        "}\n",
        "run_multiple_times(number_of_runs, args)"
      ],
      "metadata": {
        "colab": {
          "base_uri": "https://localhost:8080/"
        },
        "id": "T_TDvqaQ1nEs",
        "outputId": "6c7002ec-4c8f-41d9-d9af-bf69b980489a"
      },
      "execution_count": 16,
      "outputs": [
        {
          "output_type": "stream",
          "name": "stdout",
          "text": [
            "average metrics are\n",
            "    avg_waiting_time 1040.0268041109825\n",
            "    avg_service_time 27.59824853207802\n",
            "    avg_queue_length 18.770721490560863\n",
            "    avg_total_time_in_system 1067.6250526430606\n",
            "    avg_waiting_time_disabled 1370.3464943470049\n",
            "    avg_waiting_time_not_disabled 895.2561060288762\n",
            "    number_of_disabled 60.45\n",
            "    number_of_not_disabled 139.89666666666668\n",
            "    utilization1 0.3253326819471325\n",
            "    utilization2 0.6736256568549485\n",
            "----------------------\n"
          ]
        }
      ]
    },
    {
      "cell_type": "markdown",
      "source": [
        "we see that avg time of service is times 1/(1-error prob). that is what we expect to see theorically.\n",
        "but waiting time increases dramatically and effect is almost exponential."
      ],
      "metadata": {
        "id": "sGVjHNW41xYl"
      }
    },
    {
      "cell_type": "markdown",
      "source": [
        "now we want to comapre effect of prioritizing disable people:"
      ],
      "metadata": {
        "id": "W0kpEzCC2dm0"
      }
    },
    {
      "cell_type": "code",
      "source": [
        "class SimulationNoPr(Simulation):\n",
        "    def select_pationt_q2(self, queue2):\n",
        "\n",
        "        return queue2.pop(0)\n"
      ],
      "metadata": {
        "id": "ECsXzeKi2prV"
      },
      "execution_count": 17,
      "outputs": []
    },
    {
      "cell_type": "code",
      "source": [
        "args = {\n",
        "    'total_time':1000,  # Total simulation time\n",
        "    'arrival_rate':0.2,  # Lambda for inter-arrival times\n",
        "    'disability_prob':0.4,  # Probability of disability\n",
        "    'destination_prob':0.4,  # Probability of destination A\n",
        "    'robot_alpha':0.5,  # Alpha for robotic server\n",
        "    'error_prob':0.05,  # Probability of error\n",
        "    'is_robotic':True,\n",
        "}\n",
        "print('with prioritizing disables')\n",
        "run_multiple_times(number_of_runs, args)\n",
        "\n",
        "\n",
        "def run_simulation_once(args):\n",
        "    simulation = SimulationNoPr(\n",
        "        **args\n",
        "    )\n",
        "    simulation.generate_patients()\n",
        "    metrics = simulation.run()\n",
        "    return metrics\n",
        "\n",
        "\n",
        "def run_multiple_times(times, args):\n",
        "    results = []\n",
        "    for i in range(times):\n",
        "        results.append(run_simulation_once(args))\n",
        "\n",
        "    ans = {k:np.mean([val[k] for val in results]) for k in results[0].keys()}\n",
        "\n",
        "    print('average metrics are')\n",
        "    for k in ans:\n",
        "        print('   ',k,ans[k])\n",
        "\n",
        "    print('----------------------')\n",
        "run_multiple_times(number_of_runs, args)\n",
        "\n"
      ],
      "metadata": {
        "colab": {
          "base_uri": "https://localhost:8080/"
        },
        "id": "tSaXnoYt29Ms",
        "outputId": "f9a6beee-0c52-49a4-e421-c6af2160dfee"
      },
      "execution_count": 20,
      "outputs": [
        {
          "output_type": "stream",
          "name": "stdout",
          "text": [
            "with prioritizing disables\n",
            "average metrics are\n",
            "    avg_waiting_time 13.782641400822849\n",
            "    avg_service_time 5.980306865309527\n",
            "    avg_queue_length 1.1322267465090836\n",
            "    avg_total_time_in_system 19.762948266132373\n",
            "    avg_waiting_time_disabled 18.68849266339084\n",
            "    avg_waiting_time_not_disabled 10.381804577452629\n",
            "    number_of_disabled 80.75\n",
            "    number_of_not_disabled 119.33666666666667\n",
            "    utilization1 0.26770297279291677\n",
            "    utilization2 0.7173579630951936\n",
            "----------------------\n",
            "average metrics are\n",
            "    avg_waiting_time 14.220261966760367\n",
            "    avg_service_time 5.992492171166009\n",
            "    avg_queue_length 1.1670571488833028\n",
            "    avg_total_time_in_system 20.212754137926375\n",
            "    avg_waiting_time_disabled 19.333574605328007\n",
            "    avg_waiting_time_not_disabled 10.762202418984806\n",
            "    number_of_disabled 80.04\n",
            "    number_of_not_disabled 121.02\n",
            "    utilization1 0.26971311607537546\n",
            "    utilization2 0.7159069226735995\n",
            "----------------------\n"
          ]
        }
      ]
    },
    {
      "cell_type": "markdown",
      "source": [
        "we see that with prioritizing disables the queue is a little bit less heavy and we have less waiting times"
      ],
      "metadata": {
        "id": "oKtW1K3t3dTY"
      }
    }
  ]
}